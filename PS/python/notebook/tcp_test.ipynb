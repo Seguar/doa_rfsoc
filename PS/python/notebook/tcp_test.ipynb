{
 "cells": [
  {
   "cell_type": "code",
   "execution_count": 1,
   "id": "9ef30794-49a7-49b5-9208-70d8e015f7ba",
   "metadata": {},
   "outputs": [
    {
     "data": {
      "application/javascript": [
       "\n",
       "try {\n",
       "require(['notebook/js/codecell'], function(codecell) {\n",
       "  codecell.CodeCell.options_default.highlight_modes[\n",
       "      'magic_text/x-csrc'] = {'reg':[/^%%microblaze/]};\n",
       "  Jupyter.notebook.events.one('kernel_ready.Kernel', function(){\n",
       "      Jupyter.notebook.get_cells().map(function(cell){\n",
       "          if (cell.cell_type == 'code'){ cell.auto_highlight(); } }) ;\n",
       "  });\n",
       "});\n",
       "} catch (e) {};\n"
      ]
     },
     "metadata": {},
     "output_type": "display_data"
    },
    {
     "data": {
      "application/javascript": [
       "\n",
       "try {\n",
       "require(['notebook/js/codecell'], function(codecell) {\n",
       "  codecell.CodeCell.options_default.highlight_modes[\n",
       "      'magic_text/x-csrc'] = {'reg':[/^%%pybind11/]};\n",
       "  Jupyter.notebook.events.one('kernel_ready.Kernel', function(){\n",
       "      Jupyter.notebook.get_cells().map(function(cell){\n",
       "          if (cell.cell_type == 'code'){ cell.auto_highlight(); } }) ;\n",
       "  });\n",
       "});\n",
       "} catch (e) {};\n"
      ]
     },
     "metadata": {},
     "output_type": "display_data"
    }
   ],
   "source": [
    "from pynq import GPIO\n",
    "\n",
    "from time import sleep\n",
    "from doa_mts import *\n",
    "o1 = doaMtsOverlay('doa_mts.bit')\n",
    "# lmk_reset = GPIO(341, 'out')\n",
    "# lmk_clk_sel0 = GPIO(342, 'out')\n",
    "# lmk_clk_sel1 = GPIO(346, 'out')\n",
    "\n",
    "# lmk_reset.write(1)\n",
    "# lmk_reset.write(0)\n",
    "# lmk_clk_sel0.write(0)\n",
    "# lmk_clk_sel1.write(0)\n",
    "# sleep(0.1)\n",
    "# o1.init_rf_clks(lmk_freq = 245.76, lmx_freq = 491.52)\n",
    "# o1.init_rf_clks()\n",
    "\n",
    "# sleep(0.1)\n",
    "# o1.init_tile_sync()\n",
    "# o1.verify_clock_tree()\n",
    "# o1.sync_tiles()\n",
    "# o1.dac_enable.on()\n",
    "# o1.desync_tiles()"
   ]
  },
  {
   "cell_type": "code",
   "execution_count": 2,
   "id": "4185259e-de54-4957-85d6-73cceb7fe998",
   "metadata": {},
   "outputs": [],
   "source": [
    "import socket\n",
    "import struct\n",
    "import numpy as np\n",
    "import netifaces as ni\n",
    "from rfsoc4x2 import oled\n",
    "\n",
    "iface = ni.gateways()['default'][ni.AF_INET][1]\n",
    "ip_address = ni.ifaddresses(iface)[2][0]['addr']\n",
    "oled = oled.oled_display()\n",
    "oled.write(\"IP Addr({}):\\n{}\".format(iface, ip_address))\n",
    "\n",
    "\n",
    "port = 4000\n",
    "server_ip = ip_address  # Use the appropriate IP address or hostname\n",
    "server_port = port  # Use a free port number\n",
    "\n",
    "server_socket = socket.socket(socket.AF_INET, socket.SOCK_STREAM)\n",
    "\n",
    "# Bind the socket to the server IP and port\n",
    "server_socket.setsockopt(socket.SOL_SOCKET, socket.SO_REUSEADDR, 1)\n",
    "server_socket.bind((server_ip, server_port))\n"
   ]
  },
  {
   "cell_type": "code",
   "execution_count": 10,
   "id": "b69a214c-bdc3-452f-9ece-a85658ac4ccd",
   "metadata": {},
   "outputs": [],
   "source": [
    "\n",
    "server_socket.listen(1)\n",
    "\n",
    "# Accept a connection from the client\n",
    "client_socket, client_address = server_socket.accept()        \n",
    "\n",
    "# Receive and unpack the data size (number of Int16 elements) as a 16-bit integer\n",
    "data_size = struct.unpack('Q', client_socket.recv(64))[0]\n",
    "\n",
    "# Get data from ADCs\n",
    "data = o1.get_custom_data(data_size)\n",
    "\n",
    "# Pack the data as binary\n",
    "data_binary = struct.pack('h' * data_size, *data)\n",
    "\n",
    "# Send the data\n",
    "client_socket.sendall(data_binary)\n"
   ]
  },
  {
   "cell_type": "code",
   "execution_count": 4,
   "id": "4650a878-96a8-420f-bdb5-fd4a5a8b5722",
   "metadata": {},
   "outputs": [
    {
     "name": "stdout",
     "output_type": "stream",
     "text": [
      "Latency DAC Tile 0: 0\n",
      "Latency DAC Tile 2: 0\n",
      "Latency ADC Tile 0: 0\n",
      "Latency ADC Tile 2: 0\n"
     ]
    }
   ],
   "source": [
    "MAX_ADC_TILES = 4\n",
    "MAX_DAC_TILES = 4\n",
    "\n",
    "for n, is_active in enumerate(bin(o1.ACTIVE_ADC_TILES)[-MAX_ADC_TILES:][::-1]):\n",
    "    if is_active == '1':\n",
    "        print(f\"Latency DAC Tile {n}: {o1.xrfdc.mts_dac_config.Latency[n]}\")\n",
    "\n",
    "for n, is_active in enumerate(bin(o1.ACTIVE_DAC_TILES)[-MAX_DAC_TILES:][::-1]):\n",
    "    if is_active == '1':\n",
    "        print(f\"Latency ADC Tile {n}: {o1.xrfdc.mts_adc_config.Latency[n]}\")"
   ]
  },
  {
   "cell_type": "code",
   "execution_count": 5,
   "id": "f0a2d1b5-6044-456f-bda1-d7b69c20b86a",
   "metadata": {},
   "outputs": [
    {
     "ename": "NameError",
     "evalue": "name 'fasfsaf' is not defined",
     "output_type": "error",
     "traceback": [
      "\u001b[0;31m---------------------------------------------------------------------------\u001b[0m",
      "\u001b[0;31mNameError\u001b[0m                                 Traceback (most recent call last)",
      "Input \u001b[0;32mIn [5]\u001b[0m, in \u001b[0;36m<cell line: 1>\u001b[0;34m()\u001b[0m\n\u001b[0;32m----> 1\u001b[0m \u001b[38;5;28mprint\u001b[39m(\u001b[43mfasfsaf\u001b[49m)\n",
      "\u001b[0;31mNameError\u001b[0m: name 'fasfsaf' is not defined"
     ]
    }
   ],
   "source": [
    "print(fasfsaf)"
   ]
  },
  {
   "cell_type": "code",
   "execution_count": 9,
   "id": "7908b8d1-6aab-4503-8cb5-3a37b038773b",
   "metadata": {},
   "outputs": [],
   "source": [
    "from pynq import GPIO\n",
    "import xrfclk\n",
    "\n",
    "\n",
    "lmk_reset = GPIO(341, 'out')\n",
    "lmk_clk_sel0 = GPIO(342, 'out')\n",
    "lmk_clk_sel1 = GPIO(346, 'out')\n",
    "\n",
    "lmk_reset.write(1)\n",
    "\n",
    "lmk_clk_sel0.write(0)\n",
    "lmk_clk_sel1.write(0)\n",
    "\n",
    "# xrfclk.set_ref_clks(lmk_freq = 500, lmx_freq = 500)\n",
    "lmk_reset.write(0)\n",
    "xrfclk.set_ref_clks(lmk_freq = 500, lmx_freq = 500)"
   ]
  },
  {
   "cell_type": "code",
   "execution_count": null,
   "id": "c2d53132-6cdd-4176-9137-0c8a00641548",
   "metadata": {},
   "outputs": [],
   "source": [
    "o1.init_tile_sync()\n",
    "o1.verify_clock_tree()\n",
    "o1.sync_tiles()\n",
    "o1.xrfdc.mts_adc_config.Tiles = 0b0101\n",
    "o1.xrfdc.mts_adc()"
   ]
  },
  {
   "cell_type": "code",
   "execution_count": null,
   "id": "7f397ad0-3fc7-472a-99d7-7963f76e691c",
   "metadata": {},
   "outputs": [],
   "source": [
    "try:\n",
    "    while True:\n",
    "        \n",
    "\n",
    "            server_socket.listen(1)\n",
    "\n",
    "            # Accept a connection from the client\n",
    "            client_socket, client_address = server_socket.accept()        \n",
    "            o1.init_tile_sync()\n",
    "            o1.verify_clock_tree()\n",
    "            # o1.sync_tiles()\n",
    "            # Receive and unpack the data size (number of Int16 elements) as a 16-bit integer\n",
    "            data_size = struct.unpack('Q', client_socket.recv(64))[0]\n",
    "\n",
    "            # Get data from ADCs\n",
    "            data = o1.get_custom_data(data_size)\n",
    "            o1.dac0_player[:] = np.repeat(data, len(o1.dac0_player)/data_size)\n",
    "            o1.dac1_player[:] = np.repeat(data, len(o1.dac0_player)/data_size)\n",
    "            # Pack the data as binary\n",
    "            data_binary = struct.pack('h' * data_size, *data)\n",
    "\n",
    "            # Send the data\n",
    "            client_socket.sendall(data_binary)\n",
    "            \n",
    "            for n, is_active in enumerate(bin(o1.ACTIVE_ADC_TILES)[-MAX_ADC_TILES:][::-1]):\n",
    "                if is_active == '1':\n",
    "                    print(f\"Latency DAC Tile {n}: {o1.xrfdc.mts_dac_config.Latency[n]}\")\n",
    "\n",
    "            for n, is_active in enumerate(bin(o1.ACTIVE_DAC_TILES)[-MAX_DAC_TILES:][::-1]):\n",
    "                if is_active == '1':\n",
    "                    print(f\"Latency ADC Tile {n}: {o1.xrfdc.mts_adc_config.Latency[n]}\")\n",
    "except KeyboardInterrupt:\n",
    "    print(\"Transmission interrupted by the user.\")"
   ]
  },
  {
   "cell_type": "code",
   "execution_count": null,
   "id": "58c5acd6-a486-46b2-b0f5-037db24bdb10",
   "metadata": {},
   "outputs": [],
   "source": [
    "print(fasfsaf)"
   ]
  },
  {
   "cell_type": "code",
   "execution_count": null,
   "id": "10f72e72-a36b-43a4-aec6-84becced0e44",
   "metadata": {},
   "outputs": [],
   "source": [
    "len(data)*4\n"
   ]
  },
  {
   "cell_type": "code",
   "execution_count": null,
   "id": "19e5f22e-ee71-4500-b6b3-c3bf1618a218",
   "metadata": {},
   "outputs": [],
   "source": [
    "o1.init_tile_sync()\n",
    "o1.verify_clock_tree()"
   ]
  },
  {
   "cell_type": "code",
   "execution_count": null,
   "id": "f8fdbaa7-53f1-4036-8004-b212026cea35",
   "metadata": {},
   "outputs": [],
   "source": [
    "o1.sync_tiles()"
   ]
  },
  {
   "cell_type": "code",
   "execution_count": null,
   "id": "aa987997-ab49-4674-a6fd-5299889304bc",
   "metadata": {},
   "outputs": [],
   "source": [
    "\n",
    "#try:\n",
    "#while True:\n",
    "server_socket.listen(1)\n",
    "\n",
    "# Accept a connection from the client\n",
    "client_socket, client_address = server_socket.accept()        \n",
    "\n",
    "# Receive and unpack the data size (number of Int16 elements) as a 16-bit integer\n",
    "data_size = struct.unpack('Q', client_socket.recv(64))[0]\n",
    "\n",
    "# Get data from ADCs\n",
    "data = o1.get_custom_data(data_size)\n",
    "\n",
    "# Pack the data as binary\n",
    "data_binary = struct.pack('h' * data_size, *data)\n",
    "\n",
    "# Send the data\n",
    "client_socket.sendall(data_binary)\n",
    "#except KeyboardInterrupt:\n",
    "    #print(\"Transmission interrupted by the user.\")"
   ]
  },
  {
   "cell_type": "code",
   "execution_count": null,
   "id": "16b98e65-4845-48cd-b715-65882bc97c1b",
   "metadata": {},
   "outputs": [],
   "source": [
    "print(fasfsaf)"
   ]
  },
  {
   "cell_type": "code",
   "execution_count": null,
   "id": "6f2d6d3f-9856-4b20-8a26-723dc5e45dbe",
   "metadata": {},
   "outputs": [],
   "source": [
    "o1.xrfdc.mts_adc_config.RefTile = 2"
   ]
  },
  {
   "cell_type": "code",
   "execution_count": null,
   "id": "22d1dcf0-cc2b-4d2b-bb86-3c76e757d179",
   "metadata": {},
   "outputs": [],
   "source": [
    "try:\n",
    "    while True:\n",
    "            server_socket.listen(1)\n",
    "\n",
    "            # Accept a connection from the client\n",
    "            client_socket, client_address = server_socket.accept()        \n",
    "\n",
    "            # Receive and unpack the data size (number of Int16 elements) as a 16-bit integer\n",
    "            data_size = struct.unpack('Q', client_socket.recv(64))[0]\n",
    "\n",
    "            # Get data from ADCs\n",
    "            data = o1.get_custom_data(data_size)\n",
    "\n",
    "            # Pack the data as binary\n",
    "            data_binary = struct.pack('h' * data_size, *data)\n",
    "\n",
    "            # Send the data\n",
    "            client_socket.sendall(data_binary)\n",
    "except KeyboardInterrupt:\n",
    "    print(\"Transmission interrupted by the user.\")"
   ]
  },
  {
   "cell_type": "code",
   "execution_count": null,
   "id": "e9d54c79-6559-4ba8-af8f-ccc1e861ae4d",
   "metadata": {},
   "outputs": [],
   "source": [
    "for toggleValue in range(0,1):\n",
    "    bitvector = o1.ACTIVE_ADC_TILES\n",
    "    for n in range(MAX_ADC_TILES):\n",
    "        if (bitvector & 0x1):\n",
    "            print(n)\n",
    "            #print(toggleValue)\n",
    "        bitvector = bitvector >> 1"
   ]
  },
  {
   "cell_type": "code",
   "execution_count": null,
   "id": "23b0ea96-167c-4728-8e57-be286f589408",
   "metadata": {},
   "outputs": [],
   "source": [
    "o1.adc1 = [adc_tile, adc_block]\n",
    "o1.adc1.dac_tile = []\n",
    "adc1.dac_tile = o1.xrfdc.dac_tiles[0]\n",
    "adc2 = [0, 1]\n",
    "adc3 = [2, 0]\n",
    "adc4 = [2, 1]\n",
    "print(adc1[0])"
   ]
  },
  {
   "cell_type": "code",
   "execution_count": null,
   "id": "ab60aa11-55ea-407f-8c98-ea991836be22",
   "metadata": {},
   "outputs": [],
   "source": [
    "adc1_t = o1.xrfdc.adc_tiles[0]\n",
    "adc1_b = o1.adc1_t.blocks[0]"
   ]
  },
  {
   "cell_type": "code",
   "execution_count": null,
   "id": "b08d3b10-8a3a-475b-ac9e-557468e939ad",
   "metadata": {},
   "outputs": [],
   "source": [
    "#o1.configure_adc(adc1_t, adc1_b, 4000.00, centre_freq=5000.0)\n",
    "\n",
    "o1.xrfdc.adc_tiles[0].DynamicPLLConfig(1, pll_freq=500.0, sample_freq=5000.0)"
   ]
  },
  {
   "cell_type": "code",
   "execution_count": null,
   "id": "48ce9363-5791-49fe-9206-ec351af69033",
   "metadata": {},
   "outputs": [],
   "source": [
    "o1.ACTIVE_ADC_TILES"
   ]
  },
  {
   "cell_type": "code",
   "execution_count": null,
   "id": "01938906-cf46-4b02-ad83-e1fa3f44d3dd",
   "metadata": {},
   "outputs": [],
   "source": [
    "help(o1.configure_adc)"
   ]
  },
  {
   "cell_type": "code",
   "execution_count": null,
   "id": "807daded-5f27-4441-a710-2bc529a708c6",
   "metadata": {},
   "outputs": [],
   "source": [
    "o1.configure_adc(sample_freq=4000.0, centre_freq=4997.0)"
   ]
  },
  {
   "cell_type": "code",
   "execution_count": null,
   "id": "182a19d5-4d72-44c0-a38e-e885a0314102",
   "metadata": {},
   "outputs": [],
   "source": [
    "channels = 8 # 4 I + 4 Q\n",
    "N = len(o1.adc_capture) // channels\n",
    "AlignedCaptureSamples = np.zeros((1,len(o1.adc_capture)),dtype=np.int16)\n",
    "o1.internal_capture(AlignedCaptureSamples)\n",
    "\n",
    "ShapedCaptureSamples = np.zeros((channels, N), dtype=np.int16)\n",
    "for i in range(channels):\n",
    "    ShapedCaptureSamples[i] = AlignedCaptureSamples[0][i::channels]\n",
    "\n",
    "iqData = np.zeros((4, N), dtype=np.cdouble)\n",
    "idx = 0\n",
    "for i in range(0, 8, 2):\n",
    "    iqData[idx] = np.conjugate(ShapedCaptureSamples[i] + 1j * ShapedCaptureSamples[i+1])\n",
    "    idx = idx + 1"
   ]
  },
  {
   "cell_type": "code",
   "execution_count": null,
   "id": "66227473-977b-42df-ab51-3e8f407a28f7",
   "metadata": {},
   "outputs": [],
   "source": [
    "print(iqData)\n",
    "print(len(iqData[0]))"
   ]
  },
  {
   "cell_type": "code",
   "execution_count": null,
   "id": "2489806a-24b0-4048-ad1c-0478cb4e924a",
   "metadata": {},
   "outputs": [],
   "source": [
    "o1.dac_enable.on()"
   ]
  },
  {
   "cell_type": "code",
   "execution_count": null,
   "id": "abcadc2d-d3e3-4e80-a7b5-114a3253fa89",
   "metadata": {},
   "outputs": [],
   "source": [
    "MAX_ADC_TILES = 4\n",
    "MAX_DAC_TILES = 4\n",
    "\n",
    "for n, is_active in enumerate(bin(o1.ACTIVE_ADC_TILES)[-MAX_ADC_TILES:][::-1]):\n",
    "    if is_active == '1':\n",
    "        print(f\"Latency DAC Tile {n}: {o1.xrfdc.mts_dac_config.Latency[n]}\")\n",
    "\n",
    "for n, is_active in enumerate(bin(o1.ACTIVE_DAC_TILES)[-MAX_DAC_TILES:][::-1]):\n",
    "    if is_active == '1':\n",
    "        print(f\"Latency ADC Tile {n}: {o1.xrfdc.mts_adc_config.Latency[n]}\")"
   ]
  },
  {
   "cell_type": "code",
   "execution_count": null,
   "id": "a8919ce3-70fa-4048-9974-5c7ebfda62f5",
   "metadata": {},
   "outputs": [],
   "source": [
    "from scipy.signal import chirp\n",
    "from scipy.signal import sawtooth\n",
    "from scipy.signal import gausspulse\n",
    "\n",
    "DAC_SR = 0.5E9  # Sample rate of DACs and ADCs is 4.0 GHz\n",
    "ADC_SR = 5.0E9\n",
    "Fc = 100.0E6 # Set center frequency of waveform to 250.0 MHz\n",
    "Fe = 500.0E6 # maximum frequency of chirp at end of record\n",
    "DAC_Amplitude = 16383.0  # 14bit DAC +16383/-16384\n",
    "X_axis = (1/DAC_SR) * np.arange(0,o1.dac0_player.shape[0])\n",
    "DAC_sinewave = DAC_Amplitude * np.sin(2*np.pi*Fc*X_axis)\n",
    "DAC_sawtooth = DAC_Amplitude * sawtooth(2 * np.pi * Fc * X_axis)\n",
    "DAC_chirp = DAC_Amplitude * chirp(np.arange(0, o1.dac0_player.shape[0])/DAC_SR,\n",
    "                                  f0=Fc, f1=Fe, t1=(o1.dac0_player.shape[0]/DAC_SR), \n",
    "                                  phi=0.0, method='linear')"
   ]
  },
  {
   "cell_type": "code",
   "execution_count": null,
   "id": "26bafba5-4d62-4827-95a4-3acf590d5f2b",
   "metadata": {},
   "outputs": [],
   "source": [
    "o1.dac0_player[:] = np.int16(DAC_sinewave)\n",
    "o1.dac1_player[:] = np.int16(DAC_sinewave)\n",
    "\n",
    "#ol.dac_player[:] = np.int16(DAC_sawtooth)\n",
    "#ol.dac_player[:] = np.int16(DAC_chirp)"
   ]
  },
  {
   "cell_type": "code",
   "execution_count": null,
   "id": "755cf228-1a43-4ed4-af1a-2096253691cf",
   "metadata": {},
   "outputs": [],
   "source": [
    "o1.dac0_player[:] = np.int16(o1.adc_capture)\n",
    "o1.dac1_player[:] = np.int16(o1.adc_capture)\n",
    "\n",
    "#o1.dac1_player[:] = np.int16(ShapedCaptureSamples[1][0:131072])"
   ]
  },
  {
   "cell_type": "code",
   "execution_count": null,
   "id": "a20247ab-f8ec-447f-83d9-2914c5be060d",
   "metadata": {},
   "outputs": [],
   "source": [
    "while True:\n",
    "    AlignedCaptureSamples = np.zeros((1,len(o1.adc_capture)),dtype=np.int16)\n",
    "    o1.internal_capture(AlignedCaptureSamples)\n",
    "    o1.dac0_player[:] = AlignedCaptureSamples\n",
    "    o1.dac1_player[:] = AlignedCaptureSamples"
   ]
  },
  {
   "cell_type": "code",
   "execution_count": null,
   "id": "43274770-7ad8-48aa-b962-812c559e59d0",
   "metadata": {},
   "outputs": [],
   "source": [
    "o1.init_tile_sync()\n",
    "o1.verify_clock_tree()\n",
    "o1.sync_tiles()\n",
    "\n",
    "MAX_ADC_TILES = 4\n",
    "MAX_DAC_TILES = 4\n",
    "\n",
    "for n, is_active in enumerate(bin(o1.ACTIVE_ADC_TILES)[-MAX_ADC_TILES:][::-1]):\n",
    "    if is_active == '1':\n",
    "        print(f\"Latency DAC Tile {n}: {o1.xrfdc.mts_dac_config.Latency[n]}\")\n",
    "\n",
    "for n, is_active in enumerate(bin(o1.ACTIVE_DAC_TILES)[-MAX_DAC_TILES:][::-1]):\n",
    "    if is_active == '1':\n",
    "        print(f\"Latency ADC Tile {n}: {o1.xrfdc.mts_adc_config.Latency[n]}\")"
   ]
  },
  {
   "cell_type": "code",
   "execution_count": null,
   "id": "2879c913-23c0-41f6-9aad-7a2141a66a44",
   "metadata": {},
   "outputs": [],
   "source": []
  },
  {
   "cell_type": "code",
   "execution_count": null,
   "id": "c909fd1c-169b-4431-b0b3-0ba2cef5a10f",
   "metadata": {},
   "outputs": [],
   "source": [
    "o1?"
   ]
  },
  {
   "cell_type": "code",
   "execution_count": null,
   "id": "0538d074-1cca-457d-82f0-3c983fb7c816",
   "metadata": {},
   "outputs": [],
   "source": [
    "help(o1.xrfdc)"
   ]
  },
  {
   "cell_type": "code",
   "execution_count": null,
   "id": "fada8355-4adc-454c-8d90-a9fb4222afc6",
   "metadata": {},
   "outputs": [],
   "source": [
    "o1.xrfdc.adc_tiles[0].SetupFIFOBoth(1)"
   ]
  },
  {
   "cell_type": "code",
   "execution_count": null,
   "id": "0a3283d4-77b6-4693-9217-4ce060457743",
   "metadata": {},
   "outputs": [],
   "source": [
    "o1.xrfdc.dac_tiles[0].Reset()\n",
    "o1.xrfdc.dac_tiles[2].Reset()"
   ]
  },
  {
   "cell_type": "code",
   "execution_count": null,
   "id": "bb112d4e-19f3-49fd-926a-9a2347a920ba",
   "metadata": {},
   "outputs": [],
   "source": [
    "o1.xrfdc.dac_tiles[2].Reset()"
   ]
  },
  {
   "cell_type": "code",
   "execution_count": null,
   "id": "c2a4b5c8-7120-4f93-a877-04428a40119c",
   "metadata": {},
   "outputs": [],
   "source": [
    "while o1.xrfdc.mts_dac_config.Latency[0] > 121:\n",
    "    o1.init_tile_sync()\n",
    "    o1.verify_clock_tree()\n",
    "    o1.sync_tiles()\n",
    "    print(f\"Latency DAC Tile {0}: {o1.xrfdc.mts_dac_config.Latency[0]}\")\n",
    "print(f\"Latency DAC Tile {0}: {o1.xrfdc.mts_dac_config.Latency[0]}\")\n",
    "print(f\"Latency DAC Tile {2}: {o1.xrfdc.mts_dac_config.Latency[2]}\")"
   ]
  },
  {
   "cell_type": "code",
   "execution_count": null,
   "id": "70e94d95-c9e0-4080-826b-fc5ba8631b8b",
   "metadata": {},
   "outputs": [],
   "source": [
    "while o1.xrfdc.mts_adc_config.Latency[0] > 121:\n",
    "    o1.init_tile_sync()\n",
    "    o1.verify_clock_tree()\n",
    "    o1.sync_tiles()\n",
    "    if o1.xrfdc.mts_adc_config.Latency[0] < 200:\n",
    "        print(f\"Latency DAC Tile {0}: {o1.xrfdc.mts_adc_config.Latency[0]}\")\n",
    "print(f\"Latency ADC Tile {0}: {o1.xrfdc.mts_adc_config.Latency[0]}\")\n",
    "print(f\"Latency ADC Tile {2}: {o1.xrfdc.mts_adc_config.Latency[2]}\")"
   ]
  },
  {
   "cell_type": "code",
   "execution_count": null,
   "id": "438d9f6d-3333-4c61-a847-6c50640d8d77",
   "metadata": {},
   "outputs": [],
   "source": [
    "help(o1.xrfdc.adc_tiles[0])"
   ]
  },
  {
   "cell_type": "code",
   "execution_count": null,
   "id": "608262f0-6b2b-476c-9fe4-1d8932deff5c",
   "metadata": {},
   "outputs": [],
   "source": [
    "o1.xrfdc.adc_tiles[0].Reset\n",
    "o1.xrfdc.adc_tiles[2].Reset"
   ]
  },
  {
   "cell_type": "code",
   "execution_count": null,
   "id": "3184041d-dea2-4eb2-a5a5-ee6762514b54",
   "metadata": {},
   "outputs": [],
   "source": [
    "len(o1.adc_capture)"
   ]
  },
  {
   "cell_type": "code",
   "execution_count": null,
   "id": "e4a98382-88f2-402e-9387-c28985467615",
   "metadata": {},
   "outputs": [],
   "source": [
    "import xrfdc\n"
   ]
  },
  {
   "cell_type": "code",
   "execution_count": null,
   "id": "6d4700a4-6dcb-4676-b73e-89c6d4c274d3",
   "metadata": {},
   "outputs": [],
   "source": [
    "o1.xrfdc.mts_adc.QMCSettings"
   ]
  },
  {
   "cell_type": "code",
   "execution_count": null,
   "id": "49627907-a8f8-4071-8b50-4fdde515aeb5",
   "metadata": {},
   "outputs": [],
   "source": [
    "o1.xrfdc.mts_dac_config.Tiles = 0b0001 # turn only one tile on first\n",
    "o1.xrfdc.mts_adc_config.Tiles = 0b0001\n",
    "o1.xrfdc.mts_dac_config.SysRef_Enable = 0\n",
    "o1.xrfdc.mts_adc_config.SysRef_Enable = 0\n",
    "o1.xrfdc.mts_dac_config.Target_Latency = -1\n",
    "o1.xrfdc.mts_adc_config.Target_Latency = -1\n",
    "o1.xrfdc.mts_dac()\n",
    "o1.xrfdc.mts_adc()"
   ]
  },
  {
   "cell_type": "code",
   "execution_count": null,
   "id": "4bbfba51-ef89-430b-9135-c2cca3ddbf3b",
   "metadata": {},
   "outputs": [],
   "source": [
    "import xrfclk\n",
    "help(xrfclk)"
   ]
  },
  {
   "cell_type": "code",
   "execution_count": null,
   "id": "3e2ca1de-aea7-4dba-b384-e69e62b12a3f",
   "metadata": {},
   "outputs": [],
   "source": [
    "        for ip, details in description['ip'].items():\n",
    "            if details['driver'] == xrfdc.RFdc:\n",
    "                rfdc = ip"
   ]
  },
  {
   "cell_type": "code",
   "execution_count": null,
   "id": "2476988d-31c1-4e41-9da0-bed7fa7ed986",
   "metadata": {},
   "outputs": [],
   "source": [
    "from pynq import DefaultHierarchy"
   ]
  },
  {
   "cell_type": "code",
   "execution_count": null,
   "id": "d51cb4fe-51ea-4796-b730-1b687125f1e5",
   "metadata": {},
   "outputs": [],
   "source": [
    "DefaultHierarchy?"
   ]
  },
  {
   "cell_type": "code",
   "execution_count": null,
   "id": "b3d96bfa-b8d0-41b1-8e30-b71e009ea6c5",
   "metadata": {},
   "outputs": [],
   "source": [
    "o1.DefaultHierarchy?"
   ]
  },
  {
   "cell_type": "code",
   "execution_count": null,
   "id": "8f9059b6-8b67-42e6-adae-3e547fe6371d",
   "metadata": {},
   "outputs": [],
   "source": [
    "class Transmitter(DefaultHierarchy):\n",
    "    \"\"\"Wrapper for the transmit pipeline.\n",
    "\n",
    "    This wrapper assumes the following pipeline structure and naming\n",
    "\n",
    "    channel_xy -> rfdc\n",
    "    where x is a number associated with the relevant dac tile,\n",
    "    and y is a number associated with the relevant dac block.\n",
    "\n",
    "    Attributes\n",
    "    ----------\n",
    "    channel : list\n",
    "        A list of hierarchies.DacChannel. The DacChannels are listed in the\n",
    "        alphanumeric order that they are found.\n",
    "        Indexing channel retrieves the associated\n",
    "        DacChannel. Use get_channel_description() to obtain\n",
    "        information of the associated adc_block and adc_tile as a dict.\n",
    "\n",
    "    \"\"\"\n",
    "\n",
    "    @staticmethod\n",
    "    def checkhierarchy(description):\n",
    "        \"\"\"The hierarchy must contain channel hierarchies and be named\n",
    "        transmitter.\n",
    "        \"\"\"\n",
    "        return (any('channel_' in s for s in description['hierarchies']) and\n",
    "                description['fullpath'].split('/')[-1] == 'transmitter')\n",
    "\n",
    "    def __init__(self, description, dac_tiles=None):\n",
    "        \"\"\"Initialise the driver for the transmit pipeline\n",
    "        \"\"\"\n",
    "        super().__init__(description)\n",
    "        self.channel = []\n",
    "        self._dac_list = []\n",
    "        self._dac_tiles = dac_tiles\n",
    "        for i in range(0, NO_DAC_TILES):\n",
    "            for j in range(0, NO_DAC_BLOCKS_PTILE):\n",
    "                if ''.join(['channel_', str(i), str(j)]) in \\\n",
    "                        description['hierarchies']:\n",
    "                    self.channel.append(getattr(\n",
    "                        self, ''.join(['channel_', str(i), str(j)])))\n",
    "                    self._dac_list.append([i, j])\n",
    "\n",
    "    def _initialise_dacs(self):\n",
    "        \"\"\"Configure all DACs in the design as indicated by the dac_list.\n",
    "        \"\"\"\n",
    "        for i in range(0, len(self._dac_list)):\n",
    "            self.channel[i].dac_tile = self._dac_tiles[self._dac_list[i][0]]\n",
    "            self.channel[i].dac_block = self.channel[i].dac_tile.blocks[\n",
    "                self._dac_list[i][1]]\n",
    "            self._setup_dac(self.channel[i].dac_tile,\n",
    "                            self.channel[i].dac_block)\n",
    "\n",
    "    def _setup_dac(self, dac_tile, dac_block):\n",
    "        \"\"\"Configure the dac block with default parameters.\n",
    "        \n",
    "        The DACs operate at 4096MHz with interpolation factor of 2. Just\n",
    "        set the mixer frequency to 1000 as default. The fc must be because\n",
    "        the first nyquist zone is set for the RF-DAC block.\n",
    "        \"\"\"        \n",
    "        dac_tile.DynamicPLLConfig(1, 500, 5000)\n",
    "        sleep(0.6)\n",
    "        dac_block.NyquistZone = 1\n",
    "        dac_block.MixerSettings = {\n",
    "            'CoarseMixFreq':  xrfdc.COARSE_MIX_BYPASS,\n",
    "            'EventSource':    xrfdc.EVNT_SRC_IMMEDIATE,\n",
    "            'FineMixerScale': xrfdc.MIXER_SCALE_1P0,\n",
    "            'Freq':           1228.8,\n",
    "            'MixerMode':      xrfdc.MIXER_MODE_C2R,\n",
    "            'MixerType':      xrfdc.MIXER_TYPE_FINE,\n",
    "            'PhaseOffset':    0.0\n",
    "        }\n",
    "        dac_block.UpdateEvent(xrfdc.EVENT_MIXER)\n",
    "        dac_tile.SetupFIFO(True)\n",
    "        \n",
    "    def get_channel_description(self):\n",
    "        \"\"\"Obtains the channels and their tile and block for the user.\n",
    "        \"\"\"\n",
    "        ch_dict = {}\n",
    "        for i in range(0, len(self._dac_list)):\n",
    "            tile = self._dac_list[i][0]\n",
    "            block = self._dac_list[i][1]\n",
    "            ch_dict.update({''.join([\"Channel \", str(i)]): \n",
    "                            {\"Tile\": tile+228,\n",
    "                             \"Block\": block}})\n",
    "        return ch_dict"
   ]
  },
  {
   "cell_type": "code",
   "execution_count": null,
   "id": "9caff180-7c1c-4505-a998-a2b3da3d92c9",
   "metadata": {},
   "outputs": [],
   "source": [
    "o1.Transmitter"
   ]
  },
  {
   "cell_type": "code",
   "execution_count": null,
   "id": "4c466ee9-be9d-4f5e-8a79-7299b94b9c9b",
   "metadata": {},
   "outputs": [],
   "source": [
    "o1._adc_tiles"
   ]
  },
  {
   "cell_type": "code",
   "execution_count": null,
   "id": "2875c44b-5882-496c-8fa6-1b131c96b5da",
   "metadata": {},
   "outputs": [],
   "source": [
    "adc_tiles=None"
   ]
  },
  {
   "cell_type": "code",
   "execution_count": null,
   "id": "815515ad-38c4-4336-b646-08595c41ed93",
   "metadata": {},
   "outputs": [],
   "source": [
    "o1._adc_tiles = adc_tiles\n",
    "o1?\n"
   ]
  },
  {
   "cell_type": "code",
   "execution_count": null,
   "id": "0b3adf56-447b-4e2e-b751-e067cc121c06",
   "metadata": {},
   "outputs": [],
   "source": [
    "list(o1.xrfdc.adc_tiles)"
   ]
  },
  {
   "cell_type": "code",
   "execution_count": null,
   "id": "a8f64ce6-bc34-4fa2-b4d9-1cda75ef8fd7",
   "metadata": {},
   "outputs": [],
   "source": [
    "for n in range ():\n",
    "    o1.xrfdc.adc_tiles[n]"
   ]
  },
  {
   "cell_type": "code",
   "execution_count": null,
   "id": "a22a6e36-6501-4303-810f-e91fe25773c6",
   "metadata": {},
   "outputs": [],
   "source": [
    "o1.xrfdc.adc_tiles[:].DynamicPLLConfig(1, 491.52, 4915.2)"
   ]
  },
  {
   "cell_type": "code",
   "execution_count": null,
   "id": "fda8a466-68f2-4de5-b4cb-03293525c681",
   "metadata": {},
   "outputs": [],
   "source": [
    "adc_tile.DynamicPLLConfig(1, 491.52, 4915.2)"
   ]
  },
  {
   "cell_type": "code",
   "execution_count": null,
   "id": "e6a6a796-02e1-46b0-869a-ff9d485b4626",
   "metadata": {},
   "outputs": [],
   "source": [
    "xrfdc.COARSE_MIX_BYPASS"
   ]
  },
  {
   "cell_type": "code",
   "execution_count": null,
   "id": "c08a4c7c-48ae-49be-bfcf-e775a2663171",
   "metadata": {},
   "outputs": [],
   "source": [
    "adc_block = None\n",
    "adc_block.MixerSettings = {\n",
    "            'CoarseMixFreq':  xrfdc.COARSE_MIX_BYPASS,\n",
    "            'EventSource':    xrfdc.EVNT_SRC_TILE,\n",
    "            'FineMixerScale': xrfdc.MIXER_SCALE_1P0,\n",
    "            'Freq':           -1228.8,\n",
    "            'MixerMode':      xrfdc.MIXER_MODE_R2C,\n",
    "            'MixerType':      xrfdc.MIXER_TYPE_FINE,\n",
    "            'PhaseOffset':    0.0\n",
    "        }"
   ]
  },
  {
   "cell_type": "code",
   "execution_count": null,
   "id": "2a175401-c025-430d-8969-f738b67b0f0c",
   "metadata": {},
   "outputs": [],
   "source": [
    "help(o1.xrfdc.mts_adc)"
   ]
  },
  {
   "cell_type": "code",
   "execution_count": null,
   "id": "045356fd-d79e-492d-a3d0-0bb2c2ec024f",
   "metadata": {},
   "outputs": [],
   "source": [
    "o1.adc_tile"
   ]
  },
  {
   "cell_type": "code",
   "execution_count": null,
   "id": "4a8f2be2-1b1d-4341-91fb-46b2548523da",
   "metadata": {},
   "outputs": [],
   "source": [
    "            o1.dac_tile = o1.xrfdc.dac_tiles[2]\n",
    "            o1.dac_block = o1.dac_tile.blocks[0]\n",
    "            o1.adc_tile = o1.xrfdc.adc_tiles[2]\n",
    "            o1.adc_block = o1.adc_tile.blocks[1]"
   ]
  },
  {
   "cell_type": "code",
   "execution_count": null,
   "id": "4ba46172-e928-449e-a0fc-644718ab2fb8",
   "metadata": {},
   "outputs": [],
   "source": []
  },
  {
   "cell_type": "code",
   "execution_count": null,
   "id": "41bffc2d-9a84-4343-bc10-84ca6ccff8f4",
   "metadata": {},
   "outputs": [],
   "source": []
  }
 ],
 "metadata": {
  "kernelspec": {
   "display_name": "Python 3 (ipykernel)",
   "language": "python",
   "name": "python3"
  },
  "language_info": {
   "codemirror_mode": {
    "name": "ipython",
    "version": 3
   },
   "file_extension": ".py",
   "mimetype": "text/x-python",
   "name": "python",
   "nbconvert_exporter": "python",
   "pygments_lexer": "ipython3",
   "version": "3.10.4"
  }
 },
 "nbformat": 4,
 "nbformat_minor": 5
}
