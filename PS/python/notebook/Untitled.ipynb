{
 "cells": [
  {
   "cell_type": "code",
   "execution_count": 1,
   "id": "b9b1edf2-4eae-4f63-a8bb-07a6194aac77",
   "metadata": {},
   "outputs": [
    {
     "data": {
      "application/javascript": [
       "\n",
       "try {\n",
       "require(['notebook/js/codecell'], function(codecell) {\n",
       "  codecell.CodeCell.options_default.highlight_modes[\n",
       "      'magic_text/x-csrc'] = {'reg':[/^%%microblaze/]};\n",
       "  Jupyter.notebook.events.one('kernel_ready.Kernel', function(){\n",
       "      Jupyter.notebook.get_cells().map(function(cell){\n",
       "          if (cell.cell_type == 'code'){ cell.auto_highlight(); } }) ;\n",
       "  });\n",
       "});\n",
       "} catch (e) {};\n"
      ]
     },
     "metadata": {},
     "output_type": "display_data"
    },
    {
     "data": {
      "application/javascript": [
       "\n",
       "try {\n",
       "require(['notebook/js/codecell'], function(codecell) {\n",
       "  codecell.CodeCell.options_default.highlight_modes[\n",
       "      'magic_text/x-csrc'] = {'reg':[/^%%pybind11/]};\n",
       "  Jupyter.notebook.events.one('kernel_ready.Kernel', function(){\n",
       "      Jupyter.notebook.get_cells().map(function(cell){\n",
       "          if (cell.cell_type == 'code'){ cell.auto_highlight(); } }) ;\n",
       "  });\n",
       "});\n",
       "} catch (e) {};\n"
      ]
     },
     "metadata": {},
     "output_type": "display_data"
    }
   ],
   "source": [
    "from pynq import GPIO\n",
    "\n",
    "from time import sleep\n",
    "from doa_mts import *\n",
    "o1 = doaMtsOverlay('doa_mts.bit')\n",
    "\n",
    "# o1.init_rf_clks()\n",
    "# sleep(5)\n",
    "\n",
    "# o1.configure_adcs(centre_freq=4900)\n",
    "# sleep(1)\n",
    "\n"
   ]
  },
  {
   "cell_type": "code",
   "execution_count": 2,
   "id": "36c401f0-2a37-4c72-8b3c-15e998b50683",
   "metadata": {},
   "outputs": [],
   "source": [
    "# o1.mts_sync()"
   ]
  },
  {
   "cell_type": "code",
   "execution_count": 3,
   "id": "a42019f2-5538-47b4-a2a4-40a1d225ae77",
   "metadata": {},
   "outputs": [],
   "source": [
    "# print(fasf)"
   ]
  },
  {
   "cell_type": "code",
   "execution_count": 4,
   "id": "a6a02e36-fafc-46d9-9b81-887d699d3ebc",
   "metadata": {},
   "outputs": [],
   "source": [
    "# sleep(1)\n",
    "\n",
    "\n",
    "# o1.configure_adcs(centre_freq=4900)\n",
    "# o1.init_tile_sync()\n",
    "\n",
    "\n",
    "# o1.verify_clock_tree()\n",
    "\n",
    "# o1.sync_tiles()"
   ]
  },
  {
   "cell_type": "code",
   "execution_count": 10,
   "id": "f3739ab0-e470-449b-843d-2ccd62c40c91",
   "metadata": {},
   "outputs": [],
   "source": [
    "o1.mts_sync(adcTarget = -1, mixer_phase1=-90, mixer_phase2=-92, mixer_phase3=90, mixer_phase4=94)\n",
    "\n",
    "import socket\n",
    "import struct\n",
    "import numpy as np\n",
    "import netifaces as ni\n",
    "from rfsoc4x2 import oled\n",
    "\n",
    "iface = ni.gateways()['default'][ni.AF_INET][1]\n",
    "ip_address = ni.ifaddresses(iface)[2][0]['addr']\n",
    "oled = oled.oled_display()\n",
    "oled.write(\"IP Addr({}):\\n{}\".format(iface, ip_address))\n",
    "\n",
    "\n",
    "port = 4000\n",
    "server_ip = ip_address  # Use the appropriate IP address or hostname\n",
    "server_port = port  # Use a free port number\n",
    "\n",
    "server_socket = socket.socket(socket.AF_INET, socket.SOCK_STREAM)\n",
    "\n",
    "# Bind the socket to the server IP and port\n",
    "server_socket.setsockopt(socket.SOL_SOCKET, socket.SO_REUSEADDR, 1)\n",
    "server_socket.bind((server_ip, server_port))\n",
    "\n",
    "server_socket.listen(1)\n",
    "\n",
    "# Accept a connection from the client\n",
    "client_socket, client_address = server_socket.accept()        \n",
    "\n",
    "# Receive and unpack the data size (number of Int16 elements) as a 16-bit integer\n",
    "data_size = struct.unpack('Q', client_socket.recv(64))[0]\n",
    "\n",
    "# Get data from ADCs\n",
    "data = o1.get_custom_data(data_size)\n",
    "\n",
    "# Pack the data as binary\n",
    "data_binary = struct.pack('h' * data_size, *data)\n",
    "\n",
    "# Send the data\n",
    "client_socket.sendall(data_binary)"
   ]
  },
  {
   "cell_type": "code",
   "execution_count": 8,
   "id": "b8df12e7-3f49-4c19-a066-836a58f702aa",
   "metadata": {},
   "outputs": [
    {
     "name": "stdout",
     "output_type": "stream",
     "text": [
      "Failed at  7  : MTS Alignment is not stable - please power-cycle board and verify board connections...\n"
     ]
    },
    {
     "data": {
      "image/png": "[encoded data removed]",
      "text/plain": [
       "<Figure size 432x288 with 1 Axes>"
      ]
     },
     "metadata": {
      "needs_background": "light"
     },
     "output_type": "display_data"
    }
   ],
   "source": [
    "from scipy import signal\n",
    "import numpy as np\n",
    "import matplotlib.pyplot as plt\n",
    "channels = 8 # 4 I + 4 Q\n",
    "N = len(o1.adc_capture) // channels\n",
    "\n",
    "iterations = 16\n",
    "for i in range(iterations):\n",
    "    AlignedCaptureSamples = np.zeros((1,len(o1.adc_capture)),dtype=np.int16)\n",
    "    o1.internal_capture(AlignedCaptureSamples)\n",
    "\n",
    "    ShapedCaptureSamples = np.zeros((channels, N), dtype=np.int16)\n",
    "    for i in range(channels):\n",
    "        ShapedCaptureSamples[i] = AlignedCaptureSamples[0][i::channels]\n",
    "\n",
    "    # iqData = np.zeros((4, N), dtype=np.cdouble)\n",
    "    # idx = 0\n",
    "    # for i in range(0, 8, 2):\n",
    "    #     iqData[idx] = np.conjugate(ShapedCaptureSamples[i] + 1j * ShapedCaptureSamples[i+1])\n",
    "    #     idx = idx + 1\n",
    "    N = len(AlignedCaptureSamples[0])  # choose power of two for efficiency\n",
    "    Tile0 = -ShapedCaptureSamples[0][:N]/2**15\n",
    "    TileN = ShapedCaptureSamples[1][:N]/2**15\n",
    "    x_corr = signal.fftconvolve(TileN, Tile0[::-1], mode='full')  # compute the cross corrleation of non-adjacent channels\n",
    "    lag0 = np.argmax(x_corr)\n",
    "    failed = False\n",
    "    if (lag0 != (N-1)):\n",
    "        failed = True\n",
    "        print(\"Failed at \", i, \" : MTS Alignment is not stable - please power-cycle board and verify board connections...\")\n",
    "        pStart = 0\n",
    "        pNumSamples = 16\n",
    "        plt.plot(ShapedCaptureSamples[0][pStart:(pStart+pNumSamples)])\n",
    "        plt.plot(ShapedCaptureSamples[1][pStart:(pStart+pNumSamples)])\n",
    "        plt.plot(ShapedCaptureSamples[2][pStart:(pStart+pNumSamples)])\n",
    "        plt.plot(ShapedCaptureSamples[3][pStart:(pStart+pNumSamples)])\n",
    "        plt.plot(ShapedCaptureSamples[4][pStart:(pStart+pNumSamples)])\n",
    "        plt.plot(ShapedCaptureSamples[5][pStart:(pStart+pNumSamples)])\n",
    "        plt.plot(ShapedCaptureSamples[6][pStart:(pStart+pNumSamples)])\n",
    "        plt.plot(ShapedCaptureSamples[7][pStart:(pStart+pNumSamples)])\n",
    "        plt.show()\n",
    "        break\n",
    "if not failed :\n",
    "    print(\"MTS Successful\")"
   ]
  },
  {
   "cell_type": "code",
   "execution_count": 7,
   "id": "e2a11c13-bd16-476c-8b50-22a8a6f1da51",
   "metadata": {},
   "outputs": [
    {
     "ename": "NameError",
     "evalue": "name 'zsdfsd' is not defined",
     "output_type": "error",
     "traceback": [
      "\u001b[0;31m---------------------------------------------------------------------------\u001b[0m",
      "\u001b[0;31mNameError\u001b[0m                                 Traceback (most recent call last)",
      "Input \u001b[0;32mIn [7]\u001b[0m, in \u001b[0;36m<cell line: 1>\u001b[0;34m()\u001b[0m\n\u001b[0;32m----> 1\u001b[0m \u001b[38;5;28mprint\u001b[39m(\u001b[43mzsdfsd\u001b[49m)\n",
      "\u001b[0;31mNameError\u001b[0m: name 'zsdfsd' is not defined"
     ]
    }
   ],
   "source": [
    "print(zsdfsd)"
   ]
  },
  {
   "cell_type": "code",
   "execution_count": null,
   "id": "d23242b1-c2cf-47e1-9eb3-732d16cc8253",
   "metadata": {},
   "outputs": [],
   "source": [
    "o1.mts_sync()"
   ]
  },
  {
   "cell_type": "code",
   "execution_count": null,
   "id": "a0209b57-b290-47b0-b4c1-f99f2d5be383",
   "metadata": {},
   "outputs": [],
   "source": [
    "# o1.configure_adcs(sample_freq=5000, centre_freq=0)"
   ]
  },
  {
   "cell_type": "code",
   "execution_count": null,
   "id": "89811f40-00d4-4e4e-97c6-4c6ac1129fef",
   "metadata": {},
   "outputs": [],
   "source": [
    "# o1.xrfdc.adc_tiles[2].Reset()"
   ]
  },
  {
   "cell_type": "code",
   "execution_count": null,
   "id": "77231cb4-06f6-47b8-91a2-d2b45a51bccd",
   "metadata": {},
   "outputs": [],
   "source": [
    "# o1.adc[0].UpdateEvent(3)"
   ]
  },
  {
   "cell_type": "code",
   "execution_count": null,
   "id": "bd0974b5-1ceb-412d-a55c-926dd3b0cb96",
   "metadata": {},
   "outputs": [],
   "source": [
    "o1.init_tile_sync()\n",
    "\n",
    "o1.verify_clock_tree()\n",
    "\n",
    "o1.sync_tiles()"
   ]
  },
  {
   "cell_type": "code",
   "execution_count": null,
   "id": "90f1babe-427a-4441-b22b-8f0c04749a7b",
   "metadata": {},
   "outputs": [],
   "source": [
    "from scipy import signal\n",
    "import numpy as np\n",
    "import matplotlib.pyplot as plt\n",
    "channels = 8 # 4 I + 4 Q\n",
    "N = len(o1.adc_capture) // channels\n",
    "\n",
    "iterations = 16\n",
    "for i in range(iterations):\n",
    "    AlignedCaptureSamples = np.zeros((1,len(o1.adc_capture)),dtype=np.int16)\n",
    "    o1.internal_capture(AlignedCaptureSamples)\n",
    "\n",
    "    ShapedCaptureSamples = np.zeros((channels, N), dtype=np.int16)\n",
    "    for i in range(channels):\n",
    "        ShapedCaptureSamples[i] = AlignedCaptureSamples[0][i::channels]\n",
    "\n",
    "    # iqData = np.zeros((4, N), dtype=np.cdouble)\n",
    "    # idx = 0\n",
    "    # for i in range(0, 8, 2):\n",
    "    #     iqData[idx] = np.conjugate(ShapedCaptureSamples[i] + 1j * ShapedCaptureSamples[i+1])\n",
    "    #     idx = idx + 1\n",
    "    N = len(AlignedCaptureSamples[0])  # choose power of two for efficiency\n",
    "    Tile0 = -ShapedCaptureSamples[0][:N]/2**15\n",
    "    TileN = ShapedCaptureSamples[1][:N]/2**15\n",
    "    x_corr = signal.fftconvolve(TileN, Tile0[::-1], mode='full')  # compute the cross corrleation of non-adjacent channels\n",
    "    lag0 = np.argmax(x_corr)\n",
    "    failed = False\n",
    "    if (lag0 != (N-1)):\n",
    "        failed = True\n",
    "        print(\"Failed at \", i, \" : MTS Alignment is not stable - please power-cycle board and verify board connections...\")\n",
    "        pStart = 0\n",
    "        pNumSamples = 16\n",
    "        plt.plot(ShapedCaptureSamples[0][pStart:(pStart+pNumSamples)])\n",
    "        plt.plot(ShapedCaptureSamples[1][pStart:(pStart+pNumSamples)])\n",
    "        plt.plot(ShapedCaptureSamples[2][pStart:(pStart+pNumSamples)])\n",
    "        plt.plot(ShapedCaptureSamples[3][pStart:(pStart+pNumSamples)])\n",
    "        plt.plot(ShapedCaptureSamples[4][pStart:(pStart+pNumSamples)])\n",
    "        plt.plot(ShapedCaptureSamples[5][pStart:(pStart+pNumSamples)])\n",
    "        plt.plot(ShapedCaptureSamples[6][pStart:(pStart+pNumSamples)])\n",
    "        plt.plot(ShapedCaptureSamples[7][pStart:(pStart+pNumSamples)])\n",
    "        plt.show()\n",
    "        break\n",
    "if not failed :\n",
    "    print(\"MTS Successful\")"
   ]
  },
  {
   "cell_type": "code",
   "execution_count": null,
   "id": "2142d68a-ba99-44ac-ae75-a9c422994906",
   "metadata": {},
   "outputs": [],
   "source": [
    "o1.adc[0].MixerSettings['MixerType'] = 3\n"
   ]
  },
  {
   "cell_type": "code",
   "execution_count": null,
   "id": "fa2375a2-bb09-40ea-8d53-6699d2dce934",
   "metadata": {},
   "outputs": [],
   "source": [
    "\n",
    "o1.adc[0].MixerSettings['MixerType'] = xrfdc.MIXER_TYPE_OFF\n",
    "o1.adc[1].MixerSettings['MixerType'] = xrfdc.MIXER_TYPE_OFF\n",
    "o1.adc[2].MixerSettings['MixerType'] = xrfdc.MIXER_TYPE_OFF\n",
    "o1.adc[3].MixerSettings['MixerType'] = xrfdc.MIXER_TYPE_OFF"
   ]
  },
  {
   "cell_type": "code",
   "execution_count": null,
   "id": "6015908a-081f-4328-9755-c570321b7656",
   "metadata": {},
   "outputs": [],
   "source": [
    "o1.adc[0].MixerSettings['MixerMode'] = xrfdc.MIXER_MODE_OFF\n",
    "o1.adc[1].MixerSettings['MixerMode'] = xrfdc.MIXER_MODE_OFF\n",
    "o1.adc[2].MixerSettings['MixerMode'] = xrfdc.MIXER_MODE_OFF\n",
    "o1.adc[3].MixerSettings['MixerMode'] = xrfdc.MIXER_MODE_OFF"
   ]
  },
  {
   "cell_type": "code",
   "execution_count": null,
   "id": "bdfb6269-f545-40fe-8090-6ad1dbfc3be8",
   "metadata": {},
   "outputs": [],
   "source": [
    "o1.adc[0].QMCSettings['EventSource'] = 3\n",
    "o1.adc[1].QMCSettings['EventSource'] = 3\n",
    "o1.adc[2].QMCSettings['EventSource'] = 3\n",
    "o1.adc[3].QMCSettings['EventSource'] = 3\n"
   ]
  },
  {
   "cell_type": "code",
   "execution_count": null,
   "id": "8004a5b7-b592-45d5-a586-7de5e05429a8",
   "metadata": {},
   "outputs": [],
   "source": [
    "o1.adc[0].CoarseDelaySettings['EventSource'] = 3\n",
    "o1.adc[1].CoarseDelaySettings['EventSource'] = 3\n",
    "o1.adc[2].CoarseDelaySettings['EventSource'] = 3\n",
    "o1.adc[3].CoarseDelaySettings['EventSource'] = 3"
   ]
  },
  {
   "cell_type": "code",
   "execution_count": null,
   "id": "1c563221-f4bd-4ca7-893e-ff466488c754",
   "metadata": {},
   "outputs": [],
   "source": [
    "o1.adc[0].QMCSettings"
   ]
  },
  {
   "cell_type": "code",
   "execution_count": null,
   "id": "5a3d98eb-1735-4e87-983a-6e9bcf22502a",
   "metadata": {},
   "outputs": [],
   "source": [
    "o1.adc[0].CoarseDelaySettings\n"
   ]
  },
  {
   "cell_type": "code",
   "execution_count": null,
   "id": "d3f2c284-da46-4952-af98-8b251c1705a7",
   "metadata": {},
   "outputs": [],
   "source": [
    "o1.adc[0].MixerSettings"
   ]
  },
  {
   "cell_type": "code",
   "execution_count": null,
   "id": "f1627e6f-ebb5-4dea-9b96-1767b68c1ffa",
   "metadata": {},
   "outputs": [],
   "source": [
    "o1.adc[0].ResetInternalFIFOWidth()"
   ]
  },
  {
   "cell_type": "code",
   "execution_count": null,
   "id": "c5a7b76b-d112-4ea4-8b89-b516c806ac2f",
   "metadata": {},
   "outputs": [],
   "source": [
    "o1.adc[0].GetConnectedIData()"
   ]
  },
  {
   "cell_type": "code",
   "execution_count": null,
   "id": "78f9d56e-58c2-4509-9c8f-bff99b329726",
   "metadata": {},
   "outputs": [],
   "source": [
    "o1.adc_tiles[0].PLLConfig"
   ]
  },
  {
   "cell_type": "code",
   "execution_count": null,
   "id": "711488e1-7c32-4054-a7d8-c9c880c5fe06",
   "metadata": {},
   "outputs": [],
   "source": [
    "o1.xrfdc.mts_adc_config.Marker_Delay"
   ]
  },
  {
   "cell_type": "code",
   "execution_count": null,
   "id": "9b6c36f2-e26d-4fcf-a385-3096205107d5",
   "metadata": {},
   "outputs": [],
   "source": [
    "o1.xrfdc.mts_adc_config.Offset[2] = 0"
   ]
  },
  {
   "cell_type": "code",
   "execution_count": null,
   "id": "5748dff7-0a7e-4afe-962b-604234ef1464",
   "metadata": {},
   "outputs": [],
   "source": [
    "print('ADC 0: Latency:' + str(o1.xrfdc.mts_adc_config.Latency[0])+ ' Offset:'\n",
    "      + str(o1.xrfdc.mts_adc_config.Offset[0]) +', ADC 2: Latency:' + str(o1.xrfdc.mts_adc_config.Latency[2])+ ' Offset:'\n",
    "      + str(o1.xrfdc.mts_adc_config.Offset[2])\n",
    "     )  "
   ]
  },
  {
   "cell_type": "code",
   "execution_count": null,
   "id": "f03737dd-ec92-4a45-9f5d-13aceac9b3bf",
   "metadata": {},
   "outputs": [],
   "source": [
    "\n",
    "o1.configure_adcs(centre_freq=4900)\n",
    "\n",
    "o1.init_tile_sync()\n",
    "\n",
    "o1.verify_clock_tree()\n",
    "\n",
    "o1.sync_tiles()"
   ]
  },
  {
   "cell_type": "code",
   "execution_count": null,
   "id": "48d5e74e-2c25-411d-9bab-d760ca9b7340",
   "metadata": {},
   "outputs": [],
   "source": [
    "print(fasfas)"
   ]
  },
  {
   "cell_type": "code",
   "execution_count": null,
   "id": "1342079c-cb7c-4cb7-9eb4-100ad8eb4737",
   "metadata": {},
   "outputs": [],
   "source": [
    "o1.configure_dacs()"
   ]
  },
  {
   "cell_type": "code",
   "execution_count": null,
   "id": "b0bc422f-122f-4506-8952-4cf4fcd53908",
   "metadata": {},
   "outputs": [],
   "source": [
    "adc_tiles = {}\n",
    "adc = {}\n",
    "bitvector = o1.ACTIVE_ADC_TILES\n",
    "\n",
    "for n in range(MAX_ADC_TILES):\n",
    "    if (bitvector & 0x1):\n",
    "        adc_tiles[n] = o1.xrfdc.adc_tiles[n]\n",
    "        adc[n] = adc_tiles[n].blocks[0]\n",
    "        adc[n+1] = adc_tiles[n].blocks[1]\n",
    "    bitvector = bitvector >> 1\n",
    "\n",
    "dac_tiles = {}\n",
    "dac = {}\n",
    "bitvector = o1.ACTIVE_DAC_TILES\n",
    "\n",
    "for n in range(MAX_DAC_TILES):\n",
    "    if (bitvector & 0x1):\n",
    "        dac_tiles[n] = o1.xrfdc.dac_tiles[n]\n",
    "        dac[n] = dac_tiles[n].blocks[0]\n",
    "    bitvector = bitvector >> 1"
   ]
  },
  {
   "cell_type": "code",
   "execution_count": null,
   "id": "33da5c9a-8c85-4aef-9f0e-7e0340ad6bda",
   "metadata": {},
   "outputs": [],
   "source": [
    "# sleep(0.5)\n",
    "o1.xrfdc.mts_dac_config.Tiles = 0b0101 # turn only one tile on first\n",
    "o1.xrfdc.mts_adc_config.Tiles = 0b0101\n",
    "o1.xrfdc.mts_dac_config.SysRef_Enable = 1\n",
    "o1.xrfdc.mts_adc_config.SysRef_Enable = 1\n",
    "o1.xrfdc.mts_dac_config.Target_Latency = -1\n",
    "o1.xrfdc.mts_adc_config.Target_Latency = -1\n",
    "o1.xrfdc.mts_dac()\n",
    "o1.xrfdc.mts_adc()\n",
    "\n",
    "\n",
    "# adc_tiles[0].Reset\n",
    "# adc[0].ResetNCOPhase()\n",
    "# adc[1].ResetNCOPhase()\n",
    "# adc_tiles[0].SetupFIFOObs(0)\n",
    "# adc_tiles[0].SetupFIFOObs(1)\n",
    "\n",
    "# adc_tiles[2].Reset\n",
    "# adc[2].ResetNCOPhase()\n",
    "# adc[3].ResetNCOPhase()\n",
    "# adc_tiles[2].SetupFIFOObs(0)\n",
    "# adc_tiles[2].SetupFIFOObs(1) \n",
    "# adc_tiles[0].DumpRegs\n",
    "# adc_tiles[2].DumpRegs\n",
    "o1.verify_clock_tree()\n",
    "\n",
    "o1.xrfdc.mts_dac_config.SysRef_Enable = 1\n",
    "o1.xrfdc.mts_adc_config.SysRef_Enable = 1\n",
    "o1.xrfdc.mts_dac()\n",
    "o1.xrfdc.mts_adc()\n",
    "adc_tiles[0].PLLLockStatus"
   ]
  },
  {
   "cell_type": "code",
   "execution_count": null,
   "id": "1ff795f8-6102-4398-b82f-0d06cfefde49",
   "metadata": {},
   "outputs": [],
   "source": [
    "o1.xrfdc.adc_tiles[0].PLLLockStatus"
   ]
  },
  {
   "cell_type": "code",
   "execution_count": null,
   "id": "af1b4548-b9fa-4321-9c77-72293e19e4cb",
   "metadata": {},
   "outputs": [],
   "source": [
    "o1.adc[0].DSA"
   ]
  },
  {
   "cell_type": "code",
   "execution_count": null,
   "id": "ef2dd740-c5c8-47d0-b684-24ff2be83754",
   "metadata": {},
   "outputs": [],
   "source": [
    "adc_tiles[2].PLLLockStatus"
   ]
  },
  {
   "cell_type": "code",
   "execution_count": null,
   "id": "40d7a165-16f9-4b92-9c8e-1db11290c1b8",
   "metadata": {},
   "outputs": [],
   "source": [
    "o1.xrfdc.write(0x0100, 1)\n",
    "o1.xrfdc.read(0x0100)"
   ]
  },
  {
   "cell_type": "code",
   "execution_count": null,
   "id": "99bb8966-ecb9-4102-ad3a-0769f7dcc3f0",
   "metadata": {},
   "outputs": [],
   "source": [
    "o1.adc[0].BlockStatus"
   ]
  },
  {
   "cell_type": "code",
   "execution_count": null,
   "id": "eae4fb5d-7266-46f0-b470-b761a8863f54",
   "metadata": {},
   "outputs": [],
   "source": [
    "o1.usp_rf_data_converter_1.read(0x0228)\n"
   ]
  },
  {
   "cell_type": "code",
   "execution_count": null,
   "id": "8cf9f042-c9e6-4845-bda1-f7cf6cfb9ad0",
   "metadata": {},
   "outputs": [],
   "source": [
    "o1.xrfdc.IPStatus"
   ]
  },
  {
   "cell_type": "code",
   "execution_count": null,
   "id": "348128dc-a76e-4e71-a0b7-b980f7ce0dfb",
   "metadata": {},
   "outputs": [],
   "source": [
    "o1.xrfdc.ClkDistribution"
   ]
  },
  {
   "cell_type": "code",
   "execution_count": null,
   "id": "26834ca5-6632-40ed-9d8e-c88e9e831f80",
   "metadata": {},
   "outputs": [],
   "source": [
    "server_socket.listen(1)\n",
    "\n",
    "# Accept a connection from the client\n",
    "client_socket, client_address = server_socket.accept()        \n",
    "\n",
    "# Receive and unpack the data size (number of Int16 elements) as a 16-bit integer\n",
    "data_size = struct.unpack('Q', client_socket.recv(64))[0]\n",
    "\n",
    "# Get data from ADCs\n",
    "data = o1.get_custom_data(data_size)\n",
    "\n",
    "# Pack the data as binary\n",
    "data_binary = struct.pack('h' * data_size, *data)\n",
    "\n",
    "# Send the data\n",
    "client_socket.sendall(data_binary)"
   ]
  },
  {
   "cell_type": "code",
   "execution_count": null,
   "id": "8ae7b6cd-edda-446b-85ab-be34786a5655",
   "metadata": {},
   "outputs": [],
   "source": [
    "print(fasfsa)"
   ]
  },
  {
   "cell_type": "code",
   "execution_count": null,
   "id": "c8904801-c329-4fda-9212-6e41ed8828c9",
   "metadata": {},
   "outputs": [],
   "source": [
    "o1.configure_adcs()"
   ]
  },
  {
   "cell_type": "code",
   "execution_count": null,
   "id": "fba2d94b-56de-4cef-b6d2-8b2a2905bf0b",
   "metadata": {},
   "outputs": [],
   "source": [
    "pll_freq=125.00 \n",
    "sample_freq=4000.00\n",
    "adc1.DynamicPLLConfig(1, pll_freq, sample_freq)"
   ]
  },
  {
   "cell_type": "code",
   "execution_count": null,
   "id": "01d3addc-a0fd-4c85-a549-bb9aaa04de48",
   "metadata": {},
   "outputs": [],
   "source": [
    "tile224 = o1.xrfdc.adc_tiles[0]\n",
    "tile226 = o1.xrfdc.adc_tiles[2]\n",
    "\n",
    "adc1 = o1.xrfdc.adc_tiles[0].blocks[0]\n",
    "adc2 = o1.xrfdc.adc_tiles[0].blocks[1]\n",
    "adc3 = o1.xrfdc.adc_tiles[2].blocks[0]\n",
    "adc4 = o1.xrfdc.adc_tiles[2].blocks[1]\n",
    "print(adc1)\n"
   ]
  },
  {
   "cell_type": "code",
   "execution_count": null,
   "id": "8d314727-dcd9-4daf-9d90-70c252d04df1",
   "metadata": {},
   "outputs": [],
   "source": [
    "adc_tiles = {}\n",
    "adc = {}\n",
    "bitvector = o1.ACTIVE_ADC_TILES\n",
    "\n",
    "for n in range(MAX_ADC_TILES):\n",
    "    if (bitvector & 0x1):\n",
    "        adc_tiles[n] = o1.xrfdc.adc_tiles[n]\n",
    "        adc[n] = adc_tiles[n].blocks[0]\n",
    "        adc[n+1] = adc_tiles[n].blocks[1]\n",
    "    bitvector = bitvector >> 1\n",
    "\n",
    "dac_tiles = {}\n",
    "dac = {}\n",
    "bitvector = o1.ACTIVE_DAC_TILES\n",
    "\n",
    "for n in range(MAX_DAC_TILES):\n",
    "    if (bitvector & 0x1):\n",
    "        dac_tiles[n] = o1.xrfdc.dac_tiles[n]\n",
    "        dac[n] = dac_tiles[n].blocks[0]\n",
    "    bitvector = bitvector >> 1"
   ]
  },
  {
   "cell_type": "code",
   "execution_count": null,
   "id": "03fb88b9-cb62-4c44-a518-8d4895762ade",
   "metadata": {},
   "outputs": [],
   "source": [
    "\n"
   ]
  },
  {
   "cell_type": "code",
   "execution_count": null,
   "id": "ea87f12c-8f69-41a4-a55d-73a9ecba206b",
   "metadata": {},
   "outputs": [],
   "source": [
    "print(list(dac))"
   ]
  },
  {
   "cell_type": "code",
   "execution_count": null,
   "id": "08a68852-c42c-4f11-a678-a1d640a16a3b",
   "metadata": {},
   "outputs": [],
   "source": [
    "o1.adc_tiles"
   ]
  },
  {
   "cell_type": "code",
   "execution_count": null,
   "id": "1574d170-9dae-4d41-8198-7ca078a9ba45",
   "metadata": {},
   "outputs": [],
   "source": [
    "\n",
    "o1.configure_adc(0, 0)"
   ]
  },
  {
   "cell_type": "code",
   "execution_count": null,
   "id": "f8c4dfe3-15a7-4281-bfe5-02af928aa408",
   "metadata": {},
   "outputs": [],
   "source": [
    "o1.xrfdc.adc_tiles[2].blocks[0, 1].ResetNCOPhase()"
   ]
  },
  {
   "cell_type": "code",
   "execution_count": null,
   "id": "fee5255a-20c8-470d-ad1c-8678b11cd33e",
   "metadata": {},
   "outputs": [],
   "source": [
    "o1.init_tile_sync()\n",
    "o1.verify_clock_tree()\n",
    "o1.sync_tiles()"
   ]
  },
  {
   "cell_type": "code",
   "execution_count": null,
   "id": "6075fd2e-0f2f-4170-ab8c-d090a8cce984",
   "metadata": {},
   "outputs": [],
   "source": [
    "try:\n",
    "    while True:\n",
    "        \n",
    "\n",
    "            server_socket.listen(1)\n",
    "\n",
    "            # Accept a connection from the client\n",
    "            client_socket, client_address = server_socket.accept()        \n",
    "\n",
    "            # Receive and unpack the data size (number of Int16 elements) as a 16-bit integer\n",
    "            data_size = struct.unpack('Q', client_socket.recv(64))[0]\n",
    "\n",
    "            # Get data from ADCs\n",
    "            data = o1.get_custom_data(data_size)\n",
    "            o1.dac0_player[:] = np.repeat(data, len(o1.dac0_player)/data_size)\n",
    "            o1.dac1_player[:] = np.repeat(data, len(o1.dac0_player)/data_size)\n",
    "            # Pack the data as binary\n",
    "            data_binary = struct.pack('h' * data_size, *data)\n",
    "\n",
    "            # Send the data\n",
    "            client_socket.sendall(data_binary)\n",
    "            \n",
    "            for n, is_active in enumerate(bin(o1.ACTIVE_ADC_TILES)[-MAX_ADC_TILES:][::-1]):\n",
    "                if is_active == '1':\n",
    "                    print(f\"Latency DAC Tile {n}: {o1.xrfdc.mts_dac_config.Latency[n]}\")\n",
    "\n",
    "            for n, is_active in enumerate(bin(o1.ACTIVE_DAC_TILES)[-MAX_DAC_TILES:][::-1]):\n",
    "                if is_active == '1':\n",
    "                    print(f\"Latency ADC Tile {n}: {o1.xrfdc.mts_adc_config.Latency[n]}\")\n",
    "except KeyboardInterrupt:\n",
    "    print(\"Transmission interrupted by the user.\")"
   ]
  },
  {
   "cell_type": "code",
   "execution_count": null,
   "id": "473a4b1b-4d9e-4158-8b34-0163a05d21dd",
   "metadata": {},
   "outputs": [],
   "source": [
    "def init_tile_sync(self):\n",
    "    \"\"\" Resets the MTS alignment engine\"\"\"\n",
    "    self.xrfdc.mts_dac_config.Tiles = 0b0101 # turn only one tile on first\n",
    "    self.xrfdc.mts_adc_config.Tiles = 0b0101\n",
    "    self.xrfdc.mts_dac_config.SysRef_Enable = 1\n",
    "    self.xrfdc.mts_adc_config.SysRef_Enable = 1\n",
    "    self.xrfdc.mts_dac_config.Target_Latency = -1\n",
    "    self.xrfdc.mts_adc_config.Target_Latency = -1\n",
    "    self.xrfdc.mts_dac()\n",
    "    self.xrfdc.mts_adc()\n",
    "    # Reset MTS ClockWizard MMCM - refer to PG065\n",
    "    self.clocktreeMTS.MTSclkwiz.mmio.write_reg(CLOCKWIZARD_RESET_ADDRESS, CLOCKWIZARD_RESET_TOKEN)\n",
    "    time.sleep(0.1)\n",
    "    # Reset only user selected DAC tiles\n",
    "    bitvector = self.ACTIVE_DAC_TILES\n",
    "    for n in range(MAX_DAC_TILES):\n",
    "        if (bitvector & 0x1):\n",
    "            self.xrfdc.dac_tiles[n].Reset()\n",
    "        bitvector = bitvector >> 1\n",
    "    # Reset ADC FIFO of only user selected tiles - restarts MTS engine\n",
    "    for toggleValue in range(0,1):\n",
    "        bitvector = self.ACTIVE_ADC_TILES\n",
    "        for n in range(MAX_ADC_TILES):\n",
    "            if (bitvector & 0x1):\n",
    "                self.xrfdc.adc_tiles[n].blocks[0].ResetNCOPhase()\n",
    "                self.xrfdc.adc_tiles[n].blocks[1].ResetNCOPhase()\n",
    "                self.xrfdc.adc_tiles[n].SetupFIFOBoth(toggleValue)\n",
    "            bitvector = bitvector >> 1\n",
    "            \n",
    "    # self.xrfdc.mts_dac_config.Tiles = 0b0101 # turn only one tile on first\n",
    "    # self.xrfdc.mts_adc_config.Tiles = 0b0101\n",
    "    # self.xrfdc.mts_dac_config.SysRef_Enable = 0\n",
    "    # self.xrfdc.mts_adc_config.SysRef_Enable = 0\n",
    "    # self.xrfdc.mts_dac_config.Target_Latency = -1\n",
    "    # self.xrfdc.mts_adc_config.Target_Latency = -1\n",
    "    # self.xrfdc.mts_dac()\n",
    "    # self.xrfdc.mts_adc()\n",
    "\n",
    "def sync_tiles(self, dacTarget=-1, adcTarget=-1):\n",
    "    \"\"\" Configures RFSoC MTS alignment\"\"\"\n",
    "    # Set which RF tiles use MTS and turn MTS off\n",
    "    if self.ACTIVE_DAC_TILES > 0:\n",
    "        self.xrfdc.mts_dac_config.Tiles = self.ACTIVE_DAC_TILES # group defined in binary 0b1111\n",
    "        self.xrfdc.mts_dac_config.SysRef_Enable = 1\n",
    "        self.xrfdc.mts_dac_config.Target_Latency = dacTarget \n",
    "        self.xrfdc.mts_dac()\n",
    "    # else:\n",
    "    #     self.xrfdc.mts_dac_config.Tiles = 0x0\n",
    "    #     self.xrfdc.mts_dac_config.SysRef_Enable = 0\n",
    "    if self.ACTIVE_ADC_TILES > 0:\n",
    "        self.xrfdc.mts_adc_config.Tiles = self.ACTIVE_ADC_TILES\n",
    "        self.xrfdc.mts_adc_config.SysRef_Enable = 1\n",
    "        self.xrfdc.mts_adc_config.Target_Latency = adcTarget\n",
    "        self.xrfdc.mts_adc()\n",
    "    # else:\n",
    "    #     self.xrfdc.mts_adc_config.Tiles = 0x0\n",
    "    #     self.xrfdc.mts_adc_config.SysRef_Enable = 0\n",
    "def desync_tiles(self, dacTarget=-1, adcTarget=-1):\n",
    "    \"\"\" Configures RFSoC MTS alignment\"\"\"\n",
    "    # Set which RF tiles use MTS and turn MTS off\n",
    "    if self.ACTIVE_DAC_TILES > 0:\n",
    "        self.xrfdc.mts_dac_config.Tiles = self.ACTIVE_DAC_TILES # group defined in binary 0b1111\n",
    "        self.xrfdc.mts_dac_config.SysRef_Enable = 0\n",
    "        self.xrfdc.mts_dac_config.Target_Latency = dacTarget \n",
    "        self.xrfdc.mts_dac()\n",
    "    # else:\n",
    "    #     self.xrfdc.mts_dac_config.Tiles = 0x0\n",
    "    #     self.xrfdc.mts_dac_config.SysRef_Enable = 0\n",
    "    if self.ACTIVE_ADC_TILES > 0:\n",
    "        self.xrfdc.mts_adc_config.Tiles = self.ACTIVE_ADC_TILES\n",
    "        self.xrfdc.mts_adc_config.SysRef_Enable = 0\n",
    "        self.xrfdc.mts_adc_config.Target_Latency = adcTarget\n",
    "        self.xrfdc.mts_adc()\n",
    "    # else:\n",
    "    #     self.xrfdc.mts_adc_config.Tiles = 0x0\n",
    "    #     self.xrfdc.mts_adc_config.SysRef_Enable = 0\n",
    "\n",
    "\n",
    "\n",
    "def verify_clock_tree(self):\n",
    "    \"\"\" Verify the PL and PL_SYSREF clocks are active by verifying an MMCM is in the LOCKED state\"\"\"\n",
    "    Xstatus = self.clocktreeMTS.MTSclkwiz.read(CLOCKWIZARD_LOCK_ADDRESS) # reads the LOCK register\n",
    "    # the ClockWizard AXILite registers are NOT fully mapped: refer to PG065\n",
    "    if (Xstatus != 1):\n",
    "        raise Exception(\"The MTS ClockTree has failed to LOCK. Please verify board clocking configuration\")\n"
   ]
  },
  {
   "cell_type": "code",
   "execution_count": null,
   "id": "29d5571c-b16e-4f77-b629-b39e8bc9caf7",
   "metadata": {},
   "outputs": [],
   "source": [
    "def init_tile_sync(self):\n",
    "    \"\"\" Resets the MTS alignment engine\"\"\"\n",
    "    self.xrfdc.mts_dac_config.Tiles = 0b0101 # turn only one tile on first\n",
    "    self.xrfdc.mts_adc_config.Tiles = 0b0101\n",
    "    self.xrfdc.mts_dac_config.SysRef_Enable = 1\n",
    "    self.xrfdc.mts_adc_config.SysRef_Enable = 1\n",
    "    self.xrfdc.mts_dac_config.Target_Latency = -1\n",
    "    self.xrfdc.mts_adc_config.Target_Latency = -1\n",
    "    self.xrfdc.mts_dac()\n",
    "    self.xrfdc.mts_adc()\n",
    "    # Reset MTS ClockWizard MMCM - refer to PG065\n",
    "    self.clocktreeMTS.MTSclkwiz.mmio.write_reg(CLOCKWIZARD_RESET_ADDRESS, CLOCKWIZARD_RESET_TOKEN)\n",
    "    time.sleep(0.1)\n",
    "    # Reset only user selected DAC tiles\n",
    "    bitvector = self.ACTIVE_DAC_TILES\n",
    "    for n in range(MAX_DAC_TILES):\n",
    "        if (bitvector & 0x1):\n",
    "            self.xrfdc.dac_tiles[n].Reset()\n",
    "        bitvector = bitvector >> 1\n",
    "    # Reset ADC FIFO of only user selected tiles - restarts MTS engine\n",
    "    for toggleValue in range(0,1):\n",
    "        bitvector = self.ACTIVE_ADC_TILES\n",
    "        for n in range(MAX_ADC_TILES):\n",
    "            if (bitvector & 0x1):\n",
    "                self.xrfdc.adc_tiles[n].blocks[0].ResetNCOPhase()\n",
    "                self.xrfdc.adc_tiles[n].blocks[1].ResetNCOPhase()\n",
    "                self.xrfdc.adc_tiles[n].SetupFIFOBoth(toggleValue)\n",
    "                self.xrfdc.adc_tiles[n].SetupFIFOObs(toggleValue)\n",
    "            bitvector = bitvector >> 1\n",
    "            \n",
    "    # self.xrfdc.mts_dac_config.Tiles = 0b0101 # turn only one tile on first\n",
    "    # self.xrfdc.mts_adc_config.Tiles = 0b0101\n",
    "    # self.xrfdc.mts_dac_config.SysRef_Enable = 0\n",
    "    # self.xrfdc.mts_adc_config.SysRef_Enable = 0\n",
    "    # self.xrfdc.mts_dac_config.Target_Latency = -1\n",
    "    # self.xrfdc.mts_adc_config.Target_Latency = -1\n",
    "    # self.xrfdc.mts_dac()\n",
    "    # self.xrfdc.mts_adc()\n",
    "\n",
    "def sync_tiles(self, dacTarget=-1, adcTarget=-1):\n",
    "    \"\"\" Configures RFSoC MTS alignment\"\"\"\n",
    "    # Set which RF tiles use MTS and turn MTS off\n",
    "    if self.ACTIVE_DAC_TILES > 0:\n",
    "        self.xrfdc.mts_dac_config.Tiles = self.ACTIVE_DAC_TILES # group defined in binary 0b1111\n",
    "        self.xrfdc.mts_dac_config.SysRef_Enable = 1\n",
    "        self.xrfdc.mts_dac_config.Target_Latency = dacTarget \n",
    "        self.xrfdc.mts_dac()\n",
    "    # else:\n",
    "    #     self.xrfdc.mts_dac_config.Tiles = 0x0\n",
    "    #     self.xrfdc.mts_dac_config.SysRef_Enable = 0\n",
    "    if self.ACTIVE_ADC_TILES > 0:\n",
    "        self.xrfdc.mts_adc_config.Tiles = self.ACTIVE_ADC_TILES\n",
    "        self.xrfdc.mts_adc_config.SysRef_Enable = 1\n",
    "        self.xrfdc.mts_adc_config.Target_Latency = adcTarget\n",
    "        self.xrfdc.mts_adc()\n",
    "    # else:\n",
    "    #     self.xrfdc.mts_adc_config.Tiles = 0x0\n",
    "    #     self.xrfdc.mts_adc_config.SysRef_Enable = 0\n",
    "def desync_tiles(self, dacTarget=-1, adcTarget=-1):\n",
    "    \"\"\" Configures RFSoC MTS alignment\"\"\"\n",
    "    # Set which RF tiles use MTS and turn MTS off\n",
    "    if self.ACTIVE_DAC_TILES > 0:\n",
    "        self.xrfdc.mts_dac_config.Tiles = self.ACTIVE_DAC_TILES # group defined in binary 0b1111\n",
    "        self.xrfdc.mts_dac_config.SysRef_Enable = 0\n",
    "        self.xrfdc.mts_dac_config.Target_Latency = dacTarget \n",
    "        self.xrfdc.mts_dac()\n",
    "    # else:\n",
    "    #     self.xrfdc.mts_dac_config.Tiles = 0x0\n",
    "    #     self.xrfdc.mts_dac_config.SysRef_Enable = 0\n",
    "    if self.ACTIVE_ADC_TILES > 0:\n",
    "        self.xrfdc.mts_adc_config.Tiles = self.ACTIVE_ADC_TILES\n",
    "        self.xrfdc.mts_adc_config.SysRef_Enable = 0\n",
    "        self.xrfdc.mts_adc_config.Target_Latency = adcTarget\n",
    "        self.xrfdc.mts_adc()\n",
    "    # else:\n",
    "    #     self.xrfdc.mts_adc_config.Tiles = 0x0\n",
    "    #     self.xrfdc.mts_adc_config.SysRef_Enable = 0\n",
    "\n",
    "\n",
    "\n",
    "def verify_clock_tree(self):\n",
    "    \"\"\" Verify the PL and PL_SYSREF clocks are active by verifying an MMCM is in the LOCKED state\"\"\"\n",
    "    Xstatus = self.clocktreeMTS.MTSclkwiz.read(CLOCKWIZARD_LOCK_ADDRESS) # reads the LOCK register\n",
    "    # the ClockWizard AXILite registers are NOT fully mapped: refer to PG065\n",
    "    if (Xstatus != 1):\n",
    "        raise Exception(\"The MTS ClockTree has failed to LOCK. Please verify board clocking configuration\")\n"
   ]
  },
  {
   "cell_type": "markdown",
   "id": "a25f65a0-af32-499c-b686-62a42405c37a",
   "metadata": {},
   "source": [
    "## "
   ]
  }
 ],
 "metadata": {
  "kernelspec": {
   "display_name": "Python 3 (ipykernel)",
   "language": "python",
   "name": "python3"
  },
  "language_info": {
   "codemirror_mode": {
    "name": "ipython",
    "version": 3
   },
   "file_extension": ".py",
   "mimetype": "text/x-python",
   "name": "python",
   "nbconvert_exporter": "python",
   "pygments_lexer": "ipython3",
   "version": "3.10.4"
  }
 },
 "nbformat": 4,
 "nbformat_minor": 5
}
