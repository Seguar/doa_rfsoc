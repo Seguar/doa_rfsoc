{
 "cells": [
  {
   "cell_type": "code",
   "execution_count": 1,
   "id": "f6fef6cf-621f-4bf2-bf2a-e35fbfe2730b",
   "metadata": {},
   "outputs": [
    {
     "data": {
      "application/javascript": [
       "\n",
       "try {\n",
       "require(['notebook/js/codecell'], function(codecell) {\n",
       "  codecell.CodeCell.options_default.highlight_modes[\n",
       "      'magic_text/x-csrc'] = {'reg':[/^%%microblaze/]};\n",
       "  Jupyter.notebook.events.one('kernel_ready.Kernel', function(){\n",
       "      Jupyter.notebook.get_cells().map(function(cell){\n",
       "          if (cell.cell_type == 'code'){ cell.auto_highlight(); } }) ;\n",
       "  });\n",
       "});\n",
       "} catch (e) {};\n"
      ]
     },
     "metadata": {},
     "output_type": "display_data"
    },
    {
     "data": {
      "application/javascript": [
       "\n",
       "try {\n",
       "require(['notebook/js/codecell'], function(codecell) {\n",
       "  codecell.CodeCell.options_default.highlight_modes[\n",
       "      'magic_text/x-csrc'] = {'reg':[/^%%pybind11/]};\n",
       "  Jupyter.notebook.events.one('kernel_ready.Kernel', function(){\n",
       "      Jupyter.notebook.get_cells().map(function(cell){\n",
       "          if (cell.cell_type == 'code'){ cell.auto_highlight(); } }) ;\n",
       "  });\n",
       "});\n",
       "} catch (e) {};\n"
      ]
     },
     "metadata": {},
     "output_type": "display_data"
    }
   ],
   "source": [
    "from pynq import PL\n",
    "from pynq import Overlay\n",
    "\n",
    "from pynq import DefaultHierarchy\n",
    "from pynq import allocate\n",
    "from doa_mts import *\n",
    "o1 = doaMtsOverlay('/home/xilinx/jupyter_notebooks/DOA/doa_mts.bit')\n",
    "o1.init_tile_sync()\n",
    "o1.verify_clock_tree()\n",
    "o1.sync_tiles()"
   ]
  },
  {
   "cell_type": "code",
   "execution_count": 2,
   "id": "9c0fd778-30a8-45f3-bb23-1e959b3b68b1",
   "metadata": {},
   "outputs": [],
   "source": [
    "from rfsoc4x2 import oled\n",
    "import netifaces as ni\n",
    "\n",
    "iface = ni.gateways()['default'][ni.AF_INET][1]\n",
    "ip_address = ni.ifaddresses(iface)[2][0]['addr']\n",
    "oled = oled.oled_display()\n",
    "oled.write(\"IP Addr({}):\\n{}\".format(iface, ip_address))"
   ]
  },
  {
   "cell_type": "code",
   "execution_count": 3,
   "id": "b46c3f95",
   "metadata": {},
   "outputs": [
    {
     "ename": "OSError",
     "evalue": "[Errno 98] Address already in use",
     "output_type": "error",
     "traceback": [
      "\u001b[0;31m---------------------------------------------------------------------------\u001b[0m",
      "\u001b[0;31mOSError\u001b[0m                                   Traceback (most recent call last)",
      "Input \u001b[0;32mIn [3]\u001b[0m, in \u001b[0;36m<cell line: 20>\u001b[0;34m()\u001b[0m\n\u001b[1;32m     18\u001b[0m \u001b[38;5;66;03m# Bind the socket to the server IP and port\u001b[39;00m\n\u001b[1;32m     19\u001b[0m server_socket\u001b[38;5;241m.\u001b[39msetsockopt(socket\u001b[38;5;241m.\u001b[39mSOL_SOCKET, socket\u001b[38;5;241m.\u001b[39mSO_REUSEADDR, \u001b[38;5;241m1\u001b[39m)\n\u001b[0;32m---> 20\u001b[0m \u001b[43mserver_socket\u001b[49m\u001b[38;5;241;43m.\u001b[39;49m\u001b[43mbind\u001b[49m\u001b[43m(\u001b[49m\u001b[43m(\u001b[49m\u001b[43mserver_ip\u001b[49m\u001b[43m,\u001b[49m\u001b[43m \u001b[49m\u001b[43mserver_port\u001b[49m\u001b[43m)\u001b[49m\u001b[43m)\u001b[49m\n",
      "\u001b[0;31mOSError\u001b[0m: [Errno 98] Address already in use"
     ]
    }
   ],
   "source": [
    "import socket\n",
    "import struct\n",
    "import numpy as np\n",
    "import netifaces as ni\n",
    "from rfsoc4x2 import oled\n",
    "\n",
    "iface = ni.gateways()['default'][ni.AF_INET][1]\n",
    "ip_address = ni.ifaddresses(iface)[2][0]['addr']\n",
    "oled = oled.oled_display()\n",
    "oled.write(\"IP Addr({}):\\n{}\".format(iface, ip_address))\n",
    "\n",
    "port = 4000\n",
    "server_ip = ip_address  # Use the appropriate IP address or hostname\n",
    "server_port = port  # Use a free port number\n",
    "\n",
    "server_socket = socket.socket(socket.AF_INET, socket.SOCK_STREAM)\n",
    "\n",
    "# Bind the socket to the server IP and port\n",
    "server_socket.setsockopt(socket.SOL_SOCKET, socket.SO_REUSEADDR, 1)\n",
    "server_socket.bind((server_ip, server_port))"
   ]
  },
  {
   "cell_type": "code",
   "execution_count": 23,
   "id": "83b965ba",
   "metadata": {},
   "outputs": [
    {
     "name": "stdout",
     "output_type": "stream",
     "text": [
      "{'data': array([[ -1. -2.j, -14. -6.j,   1. -0.j, ...,  -1. +2.j,   1. -5.j,\n",
      "          1. -6.j],\n",
      "       [ -8. -7.j, -14. -7.j, -12. -1.j, ...,  -9.+10.j,  -5.+10.j,\n",
      "          1. -4.j],\n",
      "       [-20. +6.j, -10. +7.j,   4. -5.j, ...,  -1. -6.j,  -6. -9.j,\n",
      "          1. +1.j],\n",
      "       [-22. +5.j, -22.+15.j,  -7. +8.j, ...,   7.+26.j,   9.+14.j,\n",
      "         -1. -0.j]]), 'label': 'data'}\n"
     ]
    }
   ],
   "source": [
    "import numpy as np\n",
    "import matplotlib.pyplot as plt\n",
    "\n",
    "fc = 5e9\n",
    "min_ang = -90 # min scanning angle\n",
    "max_ang = 90 # max scanning angle\n",
    "scan_res = 1 # scan resolution\n",
    "scan_axis = list(range(min_ang, max_ang+1, scan_res)) # angles axis\n",
    "num_elements = 4\n",
    "c = 299792458\n",
    "lbd = c / fc\n",
    "d = lbd/2\n",
    "\n",
    "\n",
    "channels = 8 # 4 I + 4 Q\n",
    "N = len(o1.adc_capture) // channels\n",
    "\n",
    "# Data acq from FPGA\n",
    "AlignedCaptureSamples = np.zeros((1,len(o1.adc_capture)),dtype=np.int16)\n",
    "o1.internal_capture(AlignedCaptureSamples)\n",
    "\n",
    "\n",
    "# server_socket.listen(1)\n",
    "\n",
    "# # Accept a connection from the client\n",
    "# client_socket, client_address = server_socket.accept()        \n",
    "# print('Connected')\n",
    "# data_size = 1048576\n",
    "\n",
    "# # Pack the data as binary\n",
    "# data_binary = struct.pack('h' * data_size, *AlignedCaptureSamples[0])\n",
    "\n",
    "# # Send the data\n",
    "# client_socket.sendall(data_binary)\n",
    "# print('Sended')\n",
    "ShapedCaptureSamples = np.zeros((channels, N), dtype=np.int16)\n",
    "for i in range(channels):\n",
    "    ShapedCaptureSamples[i] = AlignedCaptureSamples[0][i::channels]\n",
    "\n",
    "iqData = np.zeros((4, N), dtype=np.cdouble)\n",
    "idx = 0\n",
    "for i in range(0, 8, 2):\n",
    "    iqData[idx] = np.conjugate(ShapedCaptureSamples[i] + 1j * ShapedCaptureSamples[i+1])\n",
    "    idx = idx + 1\n",
    "\n",
    "rawData = iqData\n",
    "\n",
    "from scipy.io import savemat\n",
    "mdic = {\"data\": rawData, \"label\": \"data\"}\n",
    "print(mdic)\n",
    "savemat(\"raw_data.mat\", {'complex_matrix': rawData}, oned_as='row')\n",
    "savemat(\"AlignedCaptureSamples.mat\", {'complex_matrix': AlignedCaptureSamples})#, oned_as='row')"
   ]
  },
  {
   "cell_type": "code",
   "execution_count": 24,
   "id": "e209d712-f0c3-4683-9d51-5fdc1187ab50",
   "metadata": {},
   "outputs": [
    {
     "data": {
      "image/png": "[encoded data removed]",
      "text/plain": [
       "<Figure size 432x288 with 1 Axes>"
      ]
     },
     "metadata": {
      "needs_background": "light"
     },
     "output_type": "display_data"
    }
   ],
   "source": [
    "\n",
    "# x_data = np.zeros((len(rawData), 20), dtype=float)\n",
    "\n",
    "# x_data[:, 0] = np.real(rawData[:, 0]) * np.real(rawData[:, 0])\n",
    "# x_data[:, 1] = np.imag(rawData[:, 0]) * np.imag(rawData[:, 0])\n",
    "# x_data[:, 2] = np.real(rawData[:, 0]) * np.real(rawData[:, 1])\n",
    "# x_data[:, 3] = np.imag(rawData[:, 0]) * np.imag(rawData[:, 1])\n",
    "# x_data[:, 4] = np.real(rawData[:, 0]) * np.real(rawData[:, 2])\n",
    "# x_data[:, 5] = np.imag(rawData[:, 0]) * np.imag(rawData[:, 2])\n",
    "# x_data[:, 6] = np.real(rawData[:, 0]) * np.real(rawData[:, 3])\n",
    "# x_data[:, 7] = np.imag(rawData[:, 0]) * np.imag(rawData[:, 3])\n",
    "# x_data[:, 8] = np.real(rawData[:, 1]) * np.real(rawData[:, 1])\n",
    "# x_data[:, 9] = np.imag(rawData[:, 1]) * np.imag(rawData[:, 1])\n",
    "# x_data[:, 10] = np.real(rawData[:, 1]) * np.real(rawData[:, 2])\n",
    "# x_data[:, 11] = np.imag(rawData[:, 1]) * np.imag(rawData[:, 2])\n",
    "# x_data[:, 12] = np.real(rawData[:, 1]) * np.real(rawData[:, 3])\n",
    "# x_data[:, 13] = np.imag(rawData[:, 1]) * np.imag(rawData[:, 3])\n",
    "# x_data[:, 14] = np.real(rawData[:, 2]) * np.real(rawData[:, 2])\n",
    "# x_data[:, 15] = np.imag(rawData[:, 2]) * np.imag(rawData[:, 2])\n",
    "# x_data[:, 16] = np.real(rawData[:, 2]) * np.real(rawData[:, 3])\n",
    "# x_data[:, 17] = np.imag(rawData[:, 2]) * np.imag(rawData[:, 3])\n",
    "# x_data[:, 18] = np.real(rawData[:, 3]) * np.real(rawData[:, 3])\n",
    "# x_data[:, 19] = np.imag(rawData[:, 3]) * np.imag(rawData[:, 3])\n",
    "\n",
    "# # Create matrix R\n",
    "# R = np.zeros((4, 4), dtype=complex)\n",
    "# R[0, 0] = np.sum(x_data[:, 0] + 1j * x_data[:, 1])\n",
    "# R[0, 1] = np.sum(x_data[:, 2] + 1j * x_data[:, 3])\n",
    "# R[0, 2] = np.sum(x_data[:, 4] + 1j * x_data[:, 5])\n",
    "# R[0, 3] = np.sum(x_data[:, 6] + 1j * x_data[:, 7])\n",
    "# R[1, 0] = np.conj(R[0, 1])\n",
    "# R[1, 1] = np.sum(x_data[:, 8] + 1j * x_data[:, 9])\n",
    "# R[1, 2] = np.sum(x_data[:, 10] + 1j * x_data[:, 11])\n",
    "# R[1, 3] = np.sum(x_data[:, 12] + 1j * x_data[:, 13])\n",
    "# R[2, 0] = np.conj(R[0, 2])\n",
    "# R[2, 1] = np.conj(R[1, 2])\n",
    "# R[2, 2] = np.sum(x_data[:, 14] + 1j * x_data[:, 15])\n",
    "# R[2, 3] = np.sum(x_data[:, 16] + 1j * x_data[:, 17])\n",
    "# R[3, 0] = np.conj(R[0, 3])\n",
    "# R[3, 1] = np.conj(R[1, 3])\n",
    "# R[3, 2] = np.conj(R[2, 3])\n",
    "# R[3, 3] = np.sum(x_data[:, 18] + 1j * x_data[:, 19])\n",
    "\n",
    "R = rawData@np.conjugate(rawData.T)\n",
    "\n",
    "# MVDR\n",
    "Rx = R  # Data covariance matrix\n",
    "Rx_Inv = np.linalg.inv(Rx)  # Inverse of covariance matrix\n",
    "num_elements = 4  # Define the number of elements and set its value\n",
    "A = np.zeros(num_elements, dtype=complex)\n",
    "\n",
    "# Assuming scan_axis is already defined as a numpy array\n",
    "yspec = np.zeros(len(scan_axis))\n",
    "\n",
    "# Calculate yspec\n",
    "for t in range(len(scan_axis)):\n",
    "    A = np.exp(-1j * 2 * np.pi * d * np.arange(num_elements) * np.sin(np.radians(scan_axis[t])) / lbd)\n",
    "    B = np.conj(np.transpose(A))@Rx_Inv@A\n",
    "    yspec[t] = 10 * np.log10(abs(1 / B))\n",
    "\n",
    "# Plot data\n",
    "plt.plot(scan_axis, yspec)\n",
    "plt.xlabel('Scan Axis')\n",
    "plt.ylabel('Y-Spec')\n",
    "plt.title('MVDR Spectrum')\n",
    "plt.grid(True)\n",
    "plt.show()\n",
    "result = scan_axis[np.argmax(yspec)]\n",
    "power = round(np.max(yspec))\n",
    "oled.write(\"Angle:{}\\n Power:{}\".format(result, power))"
   ]
  },
  {
   "cell_type": "code",
   "execution_count": 21,
   "id": "d02286d3-341d-4d4a-80cc-b5dbaf31b211",
   "metadata": {},
   "outputs": [],
   "source": [
    "from scipy.io import savemat\n",
    "\n",
    "mdic = {\"rawData\": iqData}\n",
    "savemat(\"rawData.mat\", mdic)"
   ]
  },
  {
   "cell_type": "code",
   "execution_count": null,
   "id": "012b8f20-a524-4dfb-8419-4766ccd68362",
   "metadata": {},
   "outputs": [],
   "source": [
    "mdic = {\"ShapedCaptureSamples\": ShapedCaptureSamples}\n",
    "savemat(\"ShapedCaptureSamples.mat\", mdic)"
   ]
  },
  {
   "cell_type": "code",
   "execution_count": null,
   "id": "7301ec85-7b5f-4bf0-a8e5-134d8dd43da0",
   "metadata": {},
   "outputs": [],
   "source": [
    "mdic = {\"AlignedCaptureSamples\": AlignedCaptureSamples}\n",
    "savemat(\"AlignedCaptureSamples.mat\", mdic)"
   ]
  },
  {
   "cell_type": "code",
   "execution_count": null,
   "id": "340a3443-ed23-46a0-b589-b775fd65f858",
   "metadata": {},
   "outputs": [],
   "source": []
  },
  {
   "cell_type": "code",
   "execution_count": null,
   "id": "3e31b41a-a8bf-4a13-88d3-391c0cf9c502",
   "metadata": {},
   "outputs": [],
   "source": [
    "while True:\n",
    "    AlignedCaptureSamples = np.zeros((1,len(o1.adc_capture)),dtype=np.int16)\n",
    "    o1.internal_capture(AlignedCaptureSamples)\n",
    "\n",
    "    ShapedCaptureSamples = np.zeros((channels, N), dtype=np.int16)\n",
    "    for i in range(channels):\n",
    "        ShapedCaptureSamples[i] = AlignedCaptureSamples[0][i::channels]\n",
    "\n",
    "    iqData = np.zeros((4, N), dtype=np.cdouble)\n",
    "    \n",
    "    idx = 0\n",
    "    for i in range(0, 8, 2):\n",
    "        iqData[idx] = ShapedCaptureSamples[i] + 1j * ShapedCaptureSamples[i+1]\n",
    "        idx = idx + 1\n",
    "\n",
    "    rawData = iqData\n",
    "    x_data = np.zeros((len(rawData), 20), dtype=float)\n",
    "\n",
    "\n",
    "    R = iqData @ np.conjugate(iqData.T)\n",
    "#     print(R)\n",
    "    # MVDR\n",
    "    Rx = R  # Data covariance matrix\n",
    "    Rx_Inv = np.linalg.inv(Rx)  # Inverse of covariance matrix\n",
    "    num_elements = 4  # Define the number of elements and set its value\n",
    "    A = np.zeros(num_elements, dtype=complex)\n",
    "\n",
    "    # Assuming scan_axis is already defined as a numpy array\n",
    "    yspec = np.zeros(len(scan_axis))\n",
    "\n",
    "    # Calculate yspec\n",
    "    for t in range(len(scan_axis)):\n",
    "        A = np.exp(-1j * 2 * np.pi * d * np.arange(num_elements) * np.sin(np.radians(scan_axis[t])) / lbd)\n",
    "        B = np.conj(A.T)@Rx_Inv@A\n",
    "        yspec[t] = 10 * np.log10(abs(1 / B))\n",
    "\n",
    "    # Plot data\n",
    "    fig, ax = plt.subplots()\n",
    "    ax.plot(scan_axis, yspec)\n",
    "    ax.set(xlabel='Scan Axis', ylabel='Y-Spec',\n",
    "       title='MVDR Spectrums')\n",
    "#     plt.xlabel('Scan Axis')\n",
    "#     plt.ylabel('Y-Spec')\n",
    "#     plt.title('MVDR Spectrum')\n",
    "    ax.grid(True)\n",
    "    plt.show()\n",
    "    result = scan_axis[np.argmax(yspec)]\n",
    "    power = round(np.max(yspec))\n",
    "    oled.write(\"Angle:{}\\n Power:{}\".format(result, power))"
   ]
  },
  {
   "cell_type": "code",
   "execution_count": null,
   "id": "fe2bc252-c58c-4659-942d-00c2ed4deccb",
   "metadata": {},
   "outputs": [],
   "source": []
  },
  {
   "cell_type": "code",
   "execution_count": null,
   "id": "23d5c4c9",
   "metadata": {},
   "outputs": [],
   "source": [
    "print(len(AlignedCaptureSamples[0]))"
   ]
  },
  {
   "cell_type": "code",
   "execution_count": 33,
   "id": "555eda54",
   "metadata": {},
   "outputs": [
    {
     "ename": "OSError",
     "evalue": "[Errno 98] Address already in use",
     "output_type": "error",
     "traceback": [
      "\u001b[0;31m---------------------------------------------------------------------------\u001b[0m",
      "\u001b[0;31mOSError\u001b[0m                                   Traceback (most recent call last)",
      "Input \u001b[0;32mIn [33]\u001b[0m, in \u001b[0;36m<cell line: 20>\u001b[0;34m()\u001b[0m\n\u001b[1;32m     18\u001b[0m \u001b[38;5;66;03m# Bind the socket to the server IP and port\u001b[39;00m\n\u001b[1;32m     19\u001b[0m server_socket\u001b[38;5;241m.\u001b[39msetsockopt(socket\u001b[38;5;241m.\u001b[39mSOL_SOCKET, socket\u001b[38;5;241m.\u001b[39mSO_REUSEADDR, \u001b[38;5;241m1\u001b[39m)\n\u001b[0;32m---> 20\u001b[0m \u001b[43mserver_socket\u001b[49m\u001b[38;5;241;43m.\u001b[39;49m\u001b[43mbind\u001b[49m\u001b[43m(\u001b[49m\u001b[43m(\u001b[49m\u001b[43mserver_ip\u001b[49m\u001b[43m,\u001b[49m\u001b[43m \u001b[49m\u001b[43mserver_port\u001b[49m\u001b[43m)\u001b[49m\u001b[43m)\u001b[49m\n",
      "\u001b[0;31mOSError\u001b[0m: [Errno 98] Address already in use"
     ]
    }
   ],
   "source": [
    "import socket\n",
    "import struct\n",
    "import numpy as np\n",
    "import netifaces as ni\n",
    "from rfsoc4x2 import oled\n",
    "\n",
    "iface = ni.gateways()['default'][ni.AF_INET][1]\n",
    "ip_address = ni.ifaddresses(iface)[2][0]['addr']\n",
    "oled = oled.oled_display()\n",
    "oled.write(\"IP Addr({}):\\n{}\".format(iface, ip_address))\n",
    "\n",
    "port = 4000\n",
    "server_ip = ip_address  # Use the appropriate IP address or hostname\n",
    "server_port = port  # Use a free port number\n",
    "\n",
    "server_socket = socket.socket(socket.AF_INET, socket.SOCK_STREAM)\n",
    "\n",
    "# Bind the socket to the server IP and port\n",
    "server_socket.setsockopt(socket.SOL_SOCKET, socket.SO_REUSEADDR, 1)\n",
    "server_socket.bind((server_ip, server_port))"
   ]
  },
  {
   "cell_type": "code",
   "execution_count": null,
   "id": "b101563f",
   "metadata": {},
   "outputs": [],
   "source": [
    "# Custom function to generate your Int16 array\n",
    "def get_custom_data(data_size):\n",
    "    # Replace this with your own custom data source or array\n",
    "    AlignedCaptureSamples = np.zeros((1,data_size),dtype=np.int16)\n",
    "    o1.internal_capture(AlignedCaptureSamples)\n",
    "    custom_data = AlignedCaptureSamples[0]\n",
    "    return custom_data\n",
    "\n",
    "try:\n",
    "    while True:\n",
    "        server_socket.listen(1)\n",
    "    \n",
    "        # Accept a connection from the client\n",
    "        client_socket, client_address = server_socket.accept()        \n",
    "\n",
    "        # Receive and unpack the data size (number of Int16 elements) as a 16-bit integer\n",
    "        data_size = struct.unpack('Q', client_socket.recv(64))[0]\n",
    "        \n",
    "        # Get data from ADCs\n",
    "        data = get_custom_data(data_size)\n",
    "\n",
    "        # Pack the data as binary\n",
    "        data_binary = struct.pack('h' * data_size, *data)\n",
    "\n",
    "        # Send the data\n",
    "        client_socket.sendall(data_binary)\n",
    "except KeyboardInterrupt:\n",
    "    print(\"Transmission interrupted by the user.\")\n",
    "    server_socket.close()"
   ]
  },
  {
   "cell_type": "code",
   "execution_count": 32,
   "id": "da806e6a",
   "metadata": {},
   "outputs": [],
   "source": [
    "server_socket.close()\n"
   ]
  },
  {
   "cell_type": "code",
   "execution_count": null,
   "id": "89d5cf2d",
   "metadata": {},
   "outputs": [],
   "source": []
  }
 ],
 "metadata": {
  "kernelspec": {
   "display_name": "Python 3 (ipykernel)",
   "language": "python",
   "name": "python3"
  },
  "language_info": {
   "codemirror_mode": {
    "name": "ipython",
    "version": 3
   },
   "file_extension": ".py",
   "mimetype": "text/x-python",
   "name": "python",
   "nbconvert_exporter": "python",
   "pygments_lexer": "ipython3",
   "version": "3.10.4"
  }
 },
 "nbformat": 4,
 "nbformat_minor": 5
}
