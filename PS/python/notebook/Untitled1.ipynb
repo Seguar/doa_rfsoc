{
 "cells": [
  {
   "cell_type": "code",
   "execution_count": 1,
   "id": "6407403c",
   "metadata": {},
   "outputs": [
    {
     "data": {
      "application/javascript": [
       "\n",
       "try {\n",
       "require(['notebook/js/codecell'], function(codecell) {\n",
       "  codecell.CodeCell.options_default.highlight_modes[\n",
       "      'magic_text/x-csrc'] = {'reg':[/^%%microblaze/]};\n",
       "  Jupyter.notebook.events.one('kernel_ready.Kernel', function(){\n",
       "      Jupyter.notebook.get_cells().map(function(cell){\n",
       "          if (cell.cell_type == 'code'){ cell.auto_highlight(); } }) ;\n",
       "  });\n",
       "});\n",
       "} catch (e) {};\n"
      ]
     },
     "metadata": {},
     "output_type": "display_data"
    },
    {
     "data": {
      "application/javascript": [
       "\n",
       "try {\n",
       "require(['notebook/js/codecell'], function(codecell) {\n",
       "  codecell.CodeCell.options_default.highlight_modes[\n",
       "      'magic_text/x-csrc'] = {'reg':[/^%%pybind11/]};\n",
       "  Jupyter.notebook.events.one('kernel_ready.Kernel', function(){\n",
       "      Jupyter.notebook.get_cells().map(function(cell){\n",
       "          if (cell.cell_type == 'code'){ cell.auto_highlight(); } }) ;\n",
       "  });\n",
       "});\n",
       "} catch (e) {};\n"
      ]
     },
     "metadata": {},
     "output_type": "display_data"
    }
   ],
   "source": [
    "from time import sleep\n",
    "from doa_mts import *\n",
    "o1 = doaMtsOverlay('doa_mts.bit')"
   ]
  },
  {
   "cell_type": "code",
   "execution_count": 2,
   "id": "f40353ab-61b4-49a8-b227-d574cd7137a3",
   "metadata": {},
   "outputs": [],
   "source": [
    "# o1.mts_sync(adcTarget = -1, mixer_phase1=-96, mixer_phase2=-96, mixer_phase3=92, mixer_phase4=100)\n",
    "# o1.mts_sync(adcTarget = -1, mixer_phase1=5, mixer_phase2=0, mixer_phase3=0, mixer_phase4=0)\n",
    "# o1.mts_sync(adcTarget = -1, mixer_phase1=0, mixer_phase2=0, mixer_phase3=0, mixer_phase4=0)"
   ]
  },
  {
   "cell_type": "code",
   "execution_count": 3,
   "id": "59d48a7e-48e2-4dac-a25d-80f1197b3898",
   "metadata": {},
   "outputs": [],
   "source": [
    "o1.mts_sync()"
   ]
  },
  {
   "cell_type": "code",
   "execution_count": 4,
   "id": "8afcea7f-4646-4a61-ad96-924c6e487265",
   "metadata": {},
   "outputs": [],
   "source": [
    "o1.mts_sync(adcTarget = -1, mixer_phase1=-90, mixer_phase2=-90, mixer_phase3=90, mixer_phase4=90)\n",
    "o1.mts_sync(adcTarget = -1, mixer_phase1=-90, mixer_phase2=-90, mixer_phase3=90, mixer_phase4=90)"
   ]
  },
  {
   "cell_type": "code",
   "execution_count": 5,
   "id": "8ee5a441-95cb-4106-982b-876bde4e833a",
   "metadata": {},
   "outputs": [],
   "source": [
    "o1.mts_sync(mixer_phase1=-24, mixer_phase2=-64.5, mixer_phase3=132.88, mixer_phase4=179.67)\n",
    "o1.mts_sync(mixer_phase1=-24, mixer_phase2=-64.5, mixer_phase3=132.88, mixer_phase4=179.67)"
   ]
  },
  {
   "cell_type": "code",
   "execution_count": 9,
   "id": "acb2abcf-b165-467c-888a-39434192bd80",
   "metadata": {},
   "outputs": [],
   "source": [
    "o1.configure_adcs(nyquist_zone=1, centre_freq=325)"
   ]
  },
  {
   "cell_type": "code",
   "execution_count": null,
   "id": "4496aa4e",
   "metadata": {},
   "outputs": [],
   "source": [
    "import socket\n",
    "import struct\n",
    "import numpy as np\n",
    "import netifaces as ni\n",
    "from rfsoc4x2 import oled\n",
    "\n",
    "iface = ni.gateways()['default'][ni.AF_INET][1]\n",
    "ip_address = ni.ifaddresses(iface)[2][0]['addr']\n",
    "oled = oled.oled_display()\n",
    "oled.write(\"IP Addr({}):\\n{}\".format(iface, ip_address))\n",
    "\n",
    "\n",
    "port = 4000\n",
    "server_ip = ip_address  # Use the appropriate IP address or hostname\n",
    "server_port = port  # Use a free port number\n",
    "\n",
    "server_socket = socket.socket(socket.AF_INET, socket.SOCK_STREAM)\n",
    "\n",
    "# Bind the socket to the server IP and port\n",
    "server_socket.setsockopt(socket.SOL_SOCKET, socket.SO_REUSEADDR, 1)\n",
    "server_socket.bind((server_ip, server_port))\n",
    "\n",
    "try:\n",
    "    while True:\n",
    "            server_socket.listen(1)\n",
    "\n",
    "            # Accept a connection from the client\n",
    "            client_socket, client_address = server_socket.accept()        \n",
    "            # Receive and unpack the data size (number of Int16 elements) as a 16-bit integer\n",
    "            data_size = struct.unpack('Q', client_socket.recv(64))[0]\n",
    "\n",
    "            # Get data from ADCs\n",
    "            data = o1.get_custom_data(data_size)\n",
    "            # o1.dac0_player[:] = np.shape(data)\n",
    "            # o1.dac1_player[:] = np.shape(data)\n",
    "            # Pack the data as binary\n",
    "            data_binary = struct.pack('h' * data_size, *data)\n",
    "\n",
    "            # Send the data\n",
    "            client_socket.sendall(data_binary)\n",
    "\n",
    "except KeyboardInterrupt:\n",
    "    print(\"Transmission interrupted by the user.\")"
   ]
  },
  {
   "cell_type": "code",
   "execution_count": 8,
   "id": "bc7bc45f-e83a-443b-b092-0800a6128984",
   "metadata": {},
   "outputs": [
    {
     "ename": "RuntimeError",
     "evalue": "Function XRFdc_DynamicPLLConfig call failed\nstdout: metal: error:     \n ADC 0 timed out at state 15 in XRFdc_WaitForRestartClr\r\n",
     "output_type": "error",
     "traceback": [
      "\u001b[0;31m---------------------------------------------------------------------------\u001b[0m",
      "\u001b[0;31mRuntimeError\u001b[0m                              Traceback (most recent call last)",
      "Input \u001b[0;32mIn [8]\u001b[0m, in \u001b[0;36m<cell line: 2>\u001b[0;34m()\u001b[0m\n\u001b[1;32m      1\u001b[0m freq \u001b[38;5;241m=\u001b[39m \u001b[38;5;241m5000\u001b[39m\n\u001b[0;32m----> 2\u001b[0m \u001b[43mo1\u001b[49m\u001b[38;5;241;43m.\u001b[39;49m\u001b[43madc_tiles\u001b[49m\u001b[43m[\u001b[49m\u001b[38;5;241;43m0\u001b[39;49m\u001b[43m]\u001b[49m\u001b[38;5;241;43m.\u001b[39;49m\u001b[43mDynamicPLLConfig\u001b[49m\u001b[43m(\u001b[49m\u001b[38;5;241;43m1\u001b[39;49m\u001b[43m,\u001b[49m\u001b[43m \u001b[49m\u001b[38;5;241;43m500\u001b[39;49m\u001b[43m,\u001b[49m\u001b[43m \u001b[49m\u001b[43mfreq\u001b[49m\u001b[43m)\u001b[49m\n\u001b[1;32m      3\u001b[0m o1\u001b[38;5;241m.\u001b[39madc_tiles[\u001b[38;5;241m2\u001b[39m]\u001b[38;5;241m.\u001b[39mDynamicPLLConfig(\u001b[38;5;241m1\u001b[39m, \u001b[38;5;241m500\u001b[39m, freq)\n",
      "File \u001b[0;32m/usr/local/share/pynq-venv/lib/python3.10/site-packages/xrfdc/__init__.py:322\u001b[0m, in \u001b[0;36mRFdcTile.DynamicPLLConfig\u001b[0;34m(self, source, ref_clk_freq, samp_rate)\u001b[0m\n\u001b[1;32m    321\u001b[0m \u001b[38;5;28;01mdef\u001b[39;00m \u001b[38;5;21mDynamicPLLConfig\u001b[39m(\u001b[38;5;28mself\u001b[39m, source, ref_clk_freq, samp_rate):\n\u001b[0;32m--> 322\u001b[0m     \u001b[38;5;28;43mself\u001b[39;49m\u001b[38;5;241;43m.\u001b[39;49m\u001b[43m_call_function\u001b[49m\u001b[43m(\u001b[49m\u001b[38;5;124;43m\"\u001b[39;49m\u001b[38;5;124;43mDynamicPLLConfig\u001b[39;49m\u001b[38;5;124;43m\"\u001b[39;49m\u001b[43m,\u001b[49m\u001b[43m \u001b[49m\u001b[43msource\u001b[49m\u001b[43m,\u001b[49m\u001b[43m \u001b[49m\u001b[43mref_clk_freq\u001b[49m\u001b[43m,\u001b[49m\u001b[43m \u001b[49m\u001b[43msamp_rate\u001b[49m\u001b[43m)\u001b[49m\n",
      "File \u001b[0;32m/usr/local/share/pynq-venv/lib/python3.10/site-packages/xrfdc/__init__.py:301\u001b[0m, in \u001b[0;36mRFdcTile._call_function\u001b[0;34m(self, name, *args)\u001b[0m\n\u001b[1;32m    300\u001b[0m \u001b[38;5;28;01mdef\u001b[39;00m \u001b[38;5;21m_call_function\u001b[39m(\u001b[38;5;28mself\u001b[39m, name, \u001b[38;5;241m*\u001b[39margs):\n\u001b[0;32m--> 301\u001b[0m     \u001b[38;5;28;01mreturn\u001b[39;00m \u001b[38;5;28;43mself\u001b[39;49m\u001b[38;5;241;43m.\u001b[39;49m\u001b[43m_parent\u001b[49m\u001b[38;5;241;43m.\u001b[39;49m\u001b[43m_call_function\u001b[49m\u001b[43m(\u001b[49m\u001b[43mname\u001b[49m\u001b[43m,\u001b[49m\u001b[43m \u001b[49m\u001b[38;5;28;43mself\u001b[39;49m\u001b[38;5;241;43m.\u001b[39;49m\u001b[43m_type\u001b[49m\u001b[43m,\u001b[49m\u001b[43m \u001b[49m\u001b[38;5;28;43mself\u001b[39;49m\u001b[38;5;241;43m.\u001b[39;49m\u001b[43m_index\u001b[49m\u001b[43m,\u001b[49m\u001b[43m \u001b[49m\u001b[38;5;241;43m*\u001b[39;49m\u001b[43margs\u001b[49m\u001b[43m)\u001b[49m\n",
      "File \u001b[0;32m/usr/local/share/pynq-venv/lib/python3.10/site-packages/xrfdc/__init__.py:376\u001b[0m, in \u001b[0;36mRFdc._call_function\u001b[0;34m(self, name, *args)\u001b[0m\n\u001b[1;32m    375\u001b[0m \u001b[38;5;28;01mdef\u001b[39;00m \u001b[38;5;21m_call_function\u001b[39m(\u001b[38;5;28mself\u001b[39m, name, \u001b[38;5;241m*\u001b[39margs):\n\u001b[0;32m--> 376\u001b[0m     \u001b[43m_safe_wrapper\u001b[49m\u001b[43m(\u001b[49m\u001b[38;5;124;43mf\u001b[39;49m\u001b[38;5;124;43m\"\u001b[39;49m\u001b[38;5;124;43mXRFdc_\u001b[39;49m\u001b[38;5;132;43;01m{\u001b[39;49;00m\u001b[43mname\u001b[49m\u001b[38;5;132;43;01m}\u001b[39;49;00m\u001b[38;5;124;43m\"\u001b[39;49m\u001b[43m,\u001b[49m\u001b[43m \u001b[49m\u001b[38;5;28;43mself\u001b[39;49m\u001b[38;5;241;43m.\u001b[39;49m\u001b[43m_instance\u001b[49m\u001b[43m,\u001b[49m\u001b[43m \u001b[49m\u001b[38;5;241;43m*\u001b[39;49m\u001b[43margs\u001b[49m\u001b[43m)\u001b[49m\n",
      "File \u001b[0;32m/usr/local/share/pynq-venv/lib/python3.10/site-packages/xrfdc/__init__.py:39\u001b[0m, in \u001b[0;36m_safe_wrapper\u001b[0;34m(name, *args, **kwargs)\u001b[0m\n\u001b[1;32m     37\u001b[0m \u001b[38;5;28;01mif\u001b[39;00m stderr:\n\u001b[1;32m     38\u001b[0m     message \u001b[38;5;241m+\u001b[39m\u001b[38;5;241m=\u001b[39m \u001b[38;5;124mf\u001b[39m\u001b[38;5;124m\"\u001b[39m\u001b[38;5;130;01m\\n\u001b[39;00m\u001b[38;5;124mstderr: \u001b[39m\u001b[38;5;132;01m{\u001b[39;00mstderr\u001b[38;5;132;01m}\u001b[39;00m\u001b[38;5;124m\"\u001b[39m\n\u001b[0;32m---> 39\u001b[0m \u001b[38;5;28;01mraise\u001b[39;00m \u001b[38;5;167;01mRuntimeError\u001b[39;00m(message)\n",
      "\u001b[0;31mRuntimeError\u001b[0m: Function XRFdc_DynamicPLLConfig call failed\nstdout: metal: error:     \n ADC 0 timed out at state 15 in XRFdc_WaitForRestartClr\r\n"
     ]
    }
   ],
   "source": [
    "freq = 5000\n",
    "o1.adc_tiles[0].DynamicPLLConfig(1, 500, freq)\n",
    "o1.adc_tiles[2].DynamicPLLConfig(1, 500, freq)"
   ]
  },
  {
   "cell_type": "code",
   "execution_count": null,
   "id": "bb1bf171-f636-47b0-b7b6-1d9c3ad75363",
   "metadata": {},
   "outputs": [],
   "source": [
    "data = o1.get_custom_data(data_size)"
   ]
  },
  {
   "cell_type": "code",
   "execution_count": null,
   "id": "58f4aca6-6497-45a1-b01f-6ab4869a3296",
   "metadata": {},
   "outputs": [],
   "source": [
    "\n"
   ]
  },
  {
   "cell_type": "code",
   "execution_count": null,
   "id": "76dca83e-3fc0-4548-943d-d5eeca7c208f",
   "metadata": {},
   "outputs": [],
   "source": [
    "iqData"
   ]
  },
  {
   "cell_type": "code",
   "execution_count": null,
   "id": "d5259ae1-9847-4aa6-bc9a-8552fae82797",
   "metadata": {},
   "outputs": [],
   "source": [
    "import numpy as np\n",
    "\n",
    "def cphase(rawData):\n",
    "    # Calibrates phases using FFT phase estimation\n",
    "    # Takes the maximum of the abs value of the FFT of the signal\n",
    "    # and calculates its angle, then calculates the right phase shift\n",
    "    # with respect to the first rawData vector.\n",
    "\n",
    "    # INPUTS:\n",
    "    # rawData: 4 X n raw signal matrix\n",
    "\n",
    "    # OUTPUTS:\n",
    "    # fixed_rawData: 4 X n aligned signal matrix\n",
    "    # weights: 4 X 1 weights vector for phase alignment\n",
    "\n",
    "    max_val = np.zeros(4, dtype=np.cdouble)\n",
    "    rawFt = np.zeros(len(rawData[:,1]), dtype=np.cdouble)\n",
    "    angs = np.zeros(4, dtype=int)\n",
    "    max_idx = np.zeros(4, dtype=int)\n",
    "    for i in range(4):\n",
    "        rawFt = np.fft.fftshift(np.fft.fft(rawData[i, :]))\n",
    "        max_idx[i] = np.argmax(np.abs(rawFt))\n",
    "        max_val[i] = rawFt[max_idx[i]]\n",
    "        print(max_val[i])\n",
    "    angs = np.angle(max_val)\n",
    "    cal_angs = angs[0] - angs\n",
    "    \n",
    "    weights = np.exp(1j * cal_angs)\n",
    "    \n",
    "    return weights"
   ]
  },
  {
   "cell_type": "code",
   "execution_count": null,
   "id": "fe70906c-c18d-4813-b77e-8528b7f0a9af",
   "metadata": {},
   "outputs": [],
   "source": [
    "channels = 8 # 4 I + 4 Q\n",
    "N = len(o1.adc_capture) // channels\n",
    "\n",
    "# Data acq from FPGA\n",
    "AlignedCaptureSamples = np.zeros((1,len(o1.adc_capture)),dtype=np.int16)\n",
    "o1.internal_capture(AlignedCaptureSamples)\n",
    "\n",
    "ShapedCaptureSamples = np.zeros((channels, N), dtype=np.int16)\n",
    "for i in range(channels):\n",
    "    ShapedCaptureSamples[i] = AlignedCaptureSamples[0][i::channels]\n",
    "\n",
    "iqData = np.zeros((4, N), dtype=np.cdouble)\n",
    "idx = 0\n",
    "for i in range(0, 8, 2):\n",
    "    iqData[idx] = np.conjugate(ShapedCaptureSamples[i] - 1j * ShapedCaptureSamples[i+1])\n",
    "    idx = idx + 1\n",
    "np.angle(cphase(iqData), deg=True)\n"
   ]
  },
  {
   "cell_type": "code",
   "execution_count": null,
   "id": "0b7b6c29-1b8e-46c7-ab92-be6834046aef",
   "metadata": {},
   "outputs": [],
   "source": [
    "import matplotlib.pyplot as plt\n",
    "for x in range(1, channels, 2):\n",
    "    plt.plot(ShapedCaptureSamples[x][0:100])\n",
    "\n",
    "\n",
    "plt.show()"
   ]
  },
  {
   "cell_type": "code",
   "execution_count": null,
   "id": "208dc96c-bb02-45e1-9bdb-8b61c9e43500",
   "metadata": {},
   "outputs": [],
   "source": [
    "o1.mts_sync(mixer_phase1=-24, mixer_phase2=-64.5, mixer_phase3=132.88, mixer_phase4=179.67)\n",
    "o1.mts_sync(mixer_phase1=-24, mixer_phase2=-64.5, mixer_phase3=132.88, mixer_phase4=179.67)\n"
   ]
  },
  {
   "cell_type": "code",
   "execution_count": null,
   "id": "085bf6a8-f99c-4234-87b9-e6a405cea892",
   "metadata": {},
   "outputs": [],
   "source": [
    "o1.mts_sync(mixer_phase1=-90, mixer_phase2=-137.04, mixer_phase3=54.74, mixer_phase4=116.47)"
   ]
  },
  {
   "cell_type": "code",
   "execution_count": null,
   "id": "7630f1d7-2643-423e-9ae5-b7626462d572",
   "metadata": {},
   "outputs": [],
   "source": [
    "o1.mts_sync(mixer_phase1=-90)\n",
    " -103.07\n",
    "     97.16\n",
    "111.08"
   ]
  },
  {
   "cell_type": "code",
   "execution_count": null,
   "id": "bfc5d900-6682-4121-bd7f-1f765e36f3a0",
   "metadata": {},
   "outputs": [],
   "source": [
    "o1.mts_sync(mixer_phase1=-90, mixer_phase2=-103.07, mixer_phase3=97.16, mixer_phase4=111.08)"
   ]
  },
  {
   "cell_type": "code",
   "execution_count": null,
   "id": "d5d78874-5510-4f35-bdeb-9721840c8250",
   "metadata": {},
   "outputs": [],
   "source": [
    "o1.mts_sync()"
   ]
  },
  {
   "cell_type": "code",
   "execution_count": null,
   "id": "9d30c52a-e102-4437-b4e1-8f1e07f0051b",
   "metadata": {},
   "outputs": [],
   "source": [
    "array([  0.        , -40.19392807, -23.61730385,  23.4435106 ])"
   ]
  },
  {
   "cell_type": "code",
   "execution_count": null,
   "id": "39503535-127c-488d-9f38-a3c5e9718039",
   "metadata": {},
   "outputs": [],
   "source": []
  },
  {
   "cell_type": "code",
   "execution_count": null,
   "id": "001445bf-8513-431f-9eed-8b9d1ae98cfb",
   "metadata": {},
   "outputs": [],
   "source": []
  },
  {
   "cell_type": "code",
   "execution_count": null,
   "id": "0652242c-4de2-4776-9ecc-987efdb75118",
   "metadata": {},
   "outputs": [],
   "source": []
  },
  {
   "cell_type": "code",
   "execution_count": null,
   "id": "31eabbd4-3106-44f4-b823-d816c933f462",
   "metadata": {},
   "outputs": [],
   "source": [
    "o1.mts_sync(mixer_phase1=-90)\n",
    "# o1.mts_sync()\n",
    "channels = 8 # 4 I + 4 Q\n",
    "N = len(o1.adc_capture) // channels\n",
    "\n",
    "# Data acq from FPGA\n",
    "AlignedCaptureSamples = np.zeros((1,len(o1.adc_capture)),dtype=np.int16)\n",
    "o1.internal_capture(AlignedCaptureSamples)\n",
    "\n",
    "ShapedCaptureSamples = np.zeros((channels, N), dtype=np.int16)\n",
    "for i in range(channels):\n",
    "    ShapedCaptureSamples[i] = AlignedCaptureSamples[0][i::channels]\n",
    "\n",
    "iqData = np.zeros((4, N), dtype=np.cdouble)\n",
    "idx = 0\n",
    "for i in range(0, 8, 2):\n",
    "    iqData[idx] = np.conjugate(ShapedCaptureSamples[i] - 1j * ShapedCaptureSamples[i+1])\n",
    "    idx = idx + 1\n",
    "phases = np.angle(cphase(iqData), deg=True)\n",
    "print(phases)\n",
    "o1.mts_sync(mixer_phase1=-90, mixer_phase2=phases[1], mixer_phase3=phases[2], mixer_phase4=phases[3])\n",
    "import matplotlib.pyplot as plt\n",
    "for x in range(1, channels, 2):\n",
    "    plt.plot(ShapedCaptureSamples[x][0:100])\n",
    "\n",
    "\n",
    "plt.show()"
   ]
  },
  {
   "cell_type": "code",
   "execution_count": null,
   "id": "9178c8f3-9ff7-4421-90f1-136cca996ad7",
   "metadata": {},
   "outputs": [],
   "source": [
    "channels = 8 # 4 I + 4 Q\n",
    "N = len(o1.adc_capture) // channels\n",
    "\n",
    "# Data acq from FPGA\n",
    "AlignedCaptureSamples = np.zeros((1,len(o1.adc_capture)),dtype=np.int16)\n",
    "o1.internal_capture(AlignedCaptureSamples)\n",
    "\n",
    "ShapedCaptureSamples = np.zeros((channels, N), dtype=np.int16)\n",
    "for i in range(channels):\n",
    "    ShapedCaptureSamples[i] = AlignedCaptureSamples[0][i::channels]\n",
    "\n",
    "iqData = np.zeros((4, N), dtype=np.cdouble)\n",
    "idx = 0\n",
    "for i in range(0, 8, 2):\n",
    "    iqData[idx] = np.conjugate(ShapedCaptureSamples[i] - 1j * ShapedCaptureSamples[i+1])\n",
    "    idx = idx + 1\n",
    "\n",
    "import matplotlib.pyplot as plt\n",
    "for x in range(1, channels, 2):\n",
    "    plt.plot(ShapedCaptureSamples[x][0:100])\n",
    "\n",
    "\n",
    "plt.show()"
   ]
  },
  {
   "cell_type": "markdown",
   "id": "d778f5f2-da7f-4080-b8d4-14786949af09",
   "metadata": {},
   "source": [
    "# "
   ]
  }
 ],
 "metadata": {
  "kernelspec": {
   "display_name": "Python 3 (ipykernel)",
   "language": "python",
   "name": "python3"
  },
  "language_info": {
   "codemirror_mode": {
    "name": "ipython",
    "version": 3
   },
   "file_extension": ".py",
   "mimetype": "text/x-python",
   "name": "python",
   "nbconvert_exporter": "python",
   "pygments_lexer": "ipython3",
   "version": "3.10.4"
  }
 },
 "nbformat": 4,
 "nbformat_minor": 5
}
